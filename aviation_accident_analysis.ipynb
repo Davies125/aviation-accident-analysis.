{
 "cells": [
  {
   "cell_type": "markdown",
   "id": "cb0a7ebb-94ba-45e4-8bc3-a2cd7270d3a1",
   "metadata": {},
   "source": [
    "# Phase 1 Final Project: Aviation Accident Analysis"
   ]
  },
  {
   "cell_type": "markdown",
   "id": "802e627c-541a-4bc1-9794-cab82261189b",
   "metadata": {},
   "source": [
    "## Identifying the Safest Aircraft Makes and Models for Business Expansion"
   ]
  },
  {
   "cell_type": "markdown",
   "id": "6617e71c-df8e-40d5-9b3f-98eef3d6b2e4",
   "metadata": {},
   "source": [
    "## Business Problem\n",
    "As our company expands into the aviation industry, we need to make informed decisions about aircraft acquisitions. However, we lack sufficient knowledge about the risks associated with different aircraft makes and models for commercial and private operations. This analysis aims to identify the safest aircraft makes and models with the lowest accident rates, ensuring data-driven purchasing decisions."
   ]
  },
  {
   "cell_type": "markdown",
   "id": "30148c2b-8697-440a-8407-47378a085e89",
   "metadata": {
    "jp-MarkdownHeadingCollapsed": true
   },
   "source": [
    "## Project Objectives\n",
    "- Analyze trends in aviation accidents over time.\n",
    "- Identify common causes of aviation accidents.\n",
    "- Examine accident distribution by aircraft make and model.\n",
    "- Recommend the safest aircraft makes and models for purchase."
   ]
  },
  {
   "cell_type": "markdown",
   "id": "ed2204ca-5b05-4fd0-8155-4f455c98fd62",
   "metadata": {},
   "source": [
    "## Expected Outcomes:\n",
    "- Insights into aviation accident trends and contributing factors.\n",
    "- A comparative analysis of accident rates across different aircraft makes and models.\n",
    "- Data-driven recommendations for acquiring the safest aircraft for business expansion."
   ]
  },
  {
   "cell_type": "markdown",
   "id": "470a3e45-089f-419a-bcee-c93e94073e85",
   "metadata": {},
   "source": [
    "## 1. Importing Libraries"
   ]
  },
  {
   "cell_type": "code",
   "execution_count": 14,
   "id": "6a89458e-2cc8-481d-9895-b5d62c969177",
   "metadata": {},
   "outputs": [],
   "source": [
    "import pandas as pd\n",
    "import matplotlib.pyplot as plt\n",
    "%matplotlib inline\n",
    "import seaborn as sns\n",
    "sns.set_style('whitegrid')\n",
    "plt.style.use('ggplot')"
   ]
  },
  {
   "cell_type": "markdown",
   "id": "22e71e9f-b651-4205-9b42-1b8d0bb2fc38",
   "metadata": {},
   "source": [
    "## 2. Loading the Datasets"
   ]
  },
  {
   "cell_type": "code",
   "execution_count": 16,
   "id": "0554b13f-bada-463b-897c-35d0e4374eaa",
   "metadata": {},
   "outputs": [],
   "source": [
    "#loading our datasets, use encoding to handle encoding errors\n",
    "df1 = pd.read_csv(\"AviationData.csv\",  encoding ='latin1', low_memory=False)\n",
    "df2 = pd.read_csv(\"USState_Codes.csv\")"
   ]
  },
  {
   "cell_type": "markdown",
   "id": "26189f59-74ea-4f18-952f-4ce9a0cead53",
   "metadata": {},
   "source": [
    "## 3. Data Understanding"
   ]
  },
  {
   "cell_type": "code",
   "execution_count": 18,
   "id": "e5bd976c-433c-461f-8661-f5fd3d88c625",
   "metadata": {},
   "outputs": [
    {
     "data": {
      "text/html": [
       "<div>\n",
       "<style scoped>\n",
       "    .dataframe tbody tr th:only-of-type {\n",
       "        vertical-align: middle;\n",
       "    }\n",
       "\n",
       "    .dataframe tbody tr th {\n",
       "        vertical-align: top;\n",
       "    }\n",
       "\n",
       "    .dataframe thead th {\n",
       "        text-align: right;\n",
       "    }\n",
       "</style>\n",
       "<table border=\"1\" class=\"dataframe\">\n",
       "  <thead>\n",
       "    <tr style=\"text-align: right;\">\n",
       "      <th></th>\n",
       "      <th>Event.Id</th>\n",
       "      <th>Investigation.Type</th>\n",
       "      <th>Accident.Number</th>\n",
       "      <th>Event.Date</th>\n",
       "      <th>Location</th>\n",
       "      <th>Country</th>\n",
       "      <th>Latitude</th>\n",
       "      <th>Longitude</th>\n",
       "      <th>Airport.Code</th>\n",
       "      <th>Airport.Name</th>\n",
       "      <th>...</th>\n",
       "      <th>Purpose.of.flight</th>\n",
       "      <th>Air.carrier</th>\n",
       "      <th>Total.Fatal.Injuries</th>\n",
       "      <th>Total.Serious.Injuries</th>\n",
       "      <th>Total.Minor.Injuries</th>\n",
       "      <th>Total.Uninjured</th>\n",
       "      <th>Weather.Condition</th>\n",
       "      <th>Broad.phase.of.flight</th>\n",
       "      <th>Report.Status</th>\n",
       "      <th>Publication.Date</th>\n",
       "    </tr>\n",
       "  </thead>\n",
       "  <tbody>\n",
       "    <tr>\n",
       "      <th>0</th>\n",
       "      <td>20001218X45444</td>\n",
       "      <td>Accident</td>\n",
       "      <td>SEA87LA080</td>\n",
       "      <td>1948-10-24</td>\n",
       "      <td>MOOSE CREEK, ID</td>\n",
       "      <td>United States</td>\n",
       "      <td>NaN</td>\n",
       "      <td>NaN</td>\n",
       "      <td>NaN</td>\n",
       "      <td>NaN</td>\n",
       "      <td>...</td>\n",
       "      <td>Personal</td>\n",
       "      <td>NaN</td>\n",
       "      <td>2.0</td>\n",
       "      <td>0.0</td>\n",
       "      <td>0.0</td>\n",
       "      <td>0.0</td>\n",
       "      <td>UNK</td>\n",
       "      <td>Cruise</td>\n",
       "      <td>Probable Cause</td>\n",
       "      <td>NaN</td>\n",
       "    </tr>\n",
       "    <tr>\n",
       "      <th>1</th>\n",
       "      <td>20001218X45447</td>\n",
       "      <td>Accident</td>\n",
       "      <td>LAX94LA336</td>\n",
       "      <td>1962-07-19</td>\n",
       "      <td>BRIDGEPORT, CA</td>\n",
       "      <td>United States</td>\n",
       "      <td>NaN</td>\n",
       "      <td>NaN</td>\n",
       "      <td>NaN</td>\n",
       "      <td>NaN</td>\n",
       "      <td>...</td>\n",
       "      <td>Personal</td>\n",
       "      <td>NaN</td>\n",
       "      <td>4.0</td>\n",
       "      <td>0.0</td>\n",
       "      <td>0.0</td>\n",
       "      <td>0.0</td>\n",
       "      <td>UNK</td>\n",
       "      <td>Unknown</td>\n",
       "      <td>Probable Cause</td>\n",
       "      <td>19-09-1996</td>\n",
       "    </tr>\n",
       "    <tr>\n",
       "      <th>2</th>\n",
       "      <td>20061025X01555</td>\n",
       "      <td>Accident</td>\n",
       "      <td>NYC07LA005</td>\n",
       "      <td>1974-08-30</td>\n",
       "      <td>Saltville, VA</td>\n",
       "      <td>United States</td>\n",
       "      <td>36.922223</td>\n",
       "      <td>-81.878056</td>\n",
       "      <td>NaN</td>\n",
       "      <td>NaN</td>\n",
       "      <td>...</td>\n",
       "      <td>Personal</td>\n",
       "      <td>NaN</td>\n",
       "      <td>3.0</td>\n",
       "      <td>NaN</td>\n",
       "      <td>NaN</td>\n",
       "      <td>NaN</td>\n",
       "      <td>IMC</td>\n",
       "      <td>Cruise</td>\n",
       "      <td>Probable Cause</td>\n",
       "      <td>26-02-2007</td>\n",
       "    </tr>\n",
       "    <tr>\n",
       "      <th>3</th>\n",
       "      <td>20001218X45448</td>\n",
       "      <td>Accident</td>\n",
       "      <td>LAX96LA321</td>\n",
       "      <td>1977-06-19</td>\n",
       "      <td>EUREKA, CA</td>\n",
       "      <td>United States</td>\n",
       "      <td>NaN</td>\n",
       "      <td>NaN</td>\n",
       "      <td>NaN</td>\n",
       "      <td>NaN</td>\n",
       "      <td>...</td>\n",
       "      <td>Personal</td>\n",
       "      <td>NaN</td>\n",
       "      <td>2.0</td>\n",
       "      <td>0.0</td>\n",
       "      <td>0.0</td>\n",
       "      <td>0.0</td>\n",
       "      <td>IMC</td>\n",
       "      <td>Cruise</td>\n",
       "      <td>Probable Cause</td>\n",
       "      <td>12-09-2000</td>\n",
       "    </tr>\n",
       "    <tr>\n",
       "      <th>4</th>\n",
       "      <td>20041105X01764</td>\n",
       "      <td>Accident</td>\n",
       "      <td>CHI79FA064</td>\n",
       "      <td>1979-08-02</td>\n",
       "      <td>Canton, OH</td>\n",
       "      <td>United States</td>\n",
       "      <td>NaN</td>\n",
       "      <td>NaN</td>\n",
       "      <td>NaN</td>\n",
       "      <td>NaN</td>\n",
       "      <td>...</td>\n",
       "      <td>Personal</td>\n",
       "      <td>NaN</td>\n",
       "      <td>1.0</td>\n",
       "      <td>2.0</td>\n",
       "      <td>NaN</td>\n",
       "      <td>0.0</td>\n",
       "      <td>VMC</td>\n",
       "      <td>Approach</td>\n",
       "      <td>Probable Cause</td>\n",
       "      <td>16-04-1980</td>\n",
       "    </tr>\n",
       "  </tbody>\n",
       "</table>\n",
       "<p>5 rows × 31 columns</p>\n",
       "</div>"
      ],
      "text/plain": [
       "         Event.Id Investigation.Type Accident.Number  Event.Date  \\\n",
       "0  20001218X45444           Accident      SEA87LA080  1948-10-24   \n",
       "1  20001218X45447           Accident      LAX94LA336  1962-07-19   \n",
       "2  20061025X01555           Accident      NYC07LA005  1974-08-30   \n",
       "3  20001218X45448           Accident      LAX96LA321  1977-06-19   \n",
       "4  20041105X01764           Accident      CHI79FA064  1979-08-02   \n",
       "\n",
       "          Location        Country   Latitude   Longitude Airport.Code  \\\n",
       "0  MOOSE CREEK, ID  United States        NaN         NaN          NaN   \n",
       "1   BRIDGEPORT, CA  United States        NaN         NaN          NaN   \n",
       "2    Saltville, VA  United States  36.922223  -81.878056          NaN   \n",
       "3       EUREKA, CA  United States        NaN         NaN          NaN   \n",
       "4       Canton, OH  United States        NaN         NaN          NaN   \n",
       "\n",
       "  Airport.Name  ... Purpose.of.flight Air.carrier Total.Fatal.Injuries  \\\n",
       "0          NaN  ...          Personal         NaN                  2.0   \n",
       "1          NaN  ...          Personal         NaN                  4.0   \n",
       "2          NaN  ...          Personal         NaN                  3.0   \n",
       "3          NaN  ...          Personal         NaN                  2.0   \n",
       "4          NaN  ...          Personal         NaN                  1.0   \n",
       "\n",
       "  Total.Serious.Injuries Total.Minor.Injuries Total.Uninjured  \\\n",
       "0                    0.0                  0.0             0.0   \n",
       "1                    0.0                  0.0             0.0   \n",
       "2                    NaN                  NaN             NaN   \n",
       "3                    0.0                  0.0             0.0   \n",
       "4                    2.0                  NaN             0.0   \n",
       "\n",
       "  Weather.Condition  Broad.phase.of.flight   Report.Status Publication.Date  \n",
       "0               UNK                 Cruise  Probable Cause              NaN  \n",
       "1               UNK                Unknown  Probable Cause       19-09-1996  \n",
       "2               IMC                 Cruise  Probable Cause       26-02-2007  \n",
       "3               IMC                 Cruise  Probable Cause       12-09-2000  \n",
       "4               VMC               Approach  Probable Cause       16-04-1980  \n",
       "\n",
       "[5 rows x 31 columns]"
      ]
     },
     "execution_count": 18,
     "metadata": {},
     "output_type": "execute_result"
    }
   ],
   "source": [
    "#previewing first 5 rows of df1 dataset\n",
    "df1.head()"
   ]
  },
  {
   "cell_type": "code",
   "execution_count": 19,
   "id": "38d965bc-4cab-44d3-b932-35794eca216d",
   "metadata": {},
   "outputs": [
    {
     "data": {
      "text/html": [
       "<div>\n",
       "<style scoped>\n",
       "    .dataframe tbody tr th:only-of-type {\n",
       "        vertical-align: middle;\n",
       "    }\n",
       "\n",
       "    .dataframe tbody tr th {\n",
       "        vertical-align: top;\n",
       "    }\n",
       "\n",
       "    .dataframe thead th {\n",
       "        text-align: right;\n",
       "    }\n",
       "</style>\n",
       "<table border=\"1\" class=\"dataframe\">\n",
       "  <thead>\n",
       "    <tr style=\"text-align: right;\">\n",
       "      <th></th>\n",
       "      <th>US_State</th>\n",
       "      <th>Abbreviation</th>\n",
       "    </tr>\n",
       "  </thead>\n",
       "  <tbody>\n",
       "    <tr>\n",
       "      <th>0</th>\n",
       "      <td>Alabama</td>\n",
       "      <td>AL</td>\n",
       "    </tr>\n",
       "    <tr>\n",
       "      <th>1</th>\n",
       "      <td>Alaska</td>\n",
       "      <td>AK</td>\n",
       "    </tr>\n",
       "    <tr>\n",
       "      <th>2</th>\n",
       "      <td>Arizona</td>\n",
       "      <td>AZ</td>\n",
       "    </tr>\n",
       "    <tr>\n",
       "      <th>3</th>\n",
       "      <td>Arkansas</td>\n",
       "      <td>AR</td>\n",
       "    </tr>\n",
       "    <tr>\n",
       "      <th>4</th>\n",
       "      <td>California</td>\n",
       "      <td>CA</td>\n",
       "    </tr>\n",
       "  </tbody>\n",
       "</table>\n",
       "</div>"
      ],
      "text/plain": [
       "     US_State Abbreviation\n",
       "0     Alabama           AL\n",
       "1      Alaska           AK\n",
       "2     Arizona           AZ\n",
       "3    Arkansas           AR\n",
       "4  California           CA"
      ]
     },
     "execution_count": 19,
     "metadata": {},
     "output_type": "execute_result"
    }
   ],
   "source": [
    "##previewing first 5 rows of df2 dataset\n",
    "df2.head()"
   ]
  },
  {
   "cell_type": "markdown",
   "id": "1ee64f50-37a2-4120-a574-37cea5be99cb",
   "metadata": {},
   "source": [
    "The datasets have been successfully loaded. The aviation dataset contains 31 columns, including accident details, locations, and fatalities. The state codes dataset provides abbreviations for U.S. states, which we will merge with the aviation dataset."
   ]
  },
  {
   "cell_type": "code",
   "execution_count": 21,
   "id": "eef89b55-629a-4545-a399-387b7187bb17",
   "metadata": {},
   "outputs": [
    {
     "name": "stdout",
     "output_type": "stream",
     "text": [
      "<class 'pandas.core.frame.DataFrame'>\n",
      "RangeIndex: 88889 entries, 0 to 88888\n",
      "Data columns (total 31 columns):\n",
      " #   Column                  Non-Null Count  Dtype  \n",
      "---  ------                  --------------  -----  \n",
      " 0   Event.Id                88889 non-null  object \n",
      " 1   Investigation.Type      88889 non-null  object \n",
      " 2   Accident.Number         88889 non-null  object \n",
      " 3   Event.Date              88889 non-null  object \n",
      " 4   Location                88837 non-null  object \n",
      " 5   Country                 88663 non-null  object \n",
      " 6   Latitude                34382 non-null  object \n",
      " 7   Longitude               34373 non-null  object \n",
      " 8   Airport.Code            50249 non-null  object \n",
      " 9   Airport.Name            52790 non-null  object \n",
      " 10  Injury.Severity         87889 non-null  object \n",
      " 11  Aircraft.damage         85695 non-null  object \n",
      " 12  Aircraft.Category       32287 non-null  object \n",
      " 13  Registration.Number     87572 non-null  object \n",
      " 14  Make                    88826 non-null  object \n",
      " 15  Model                   88797 non-null  object \n",
      " 16  Amateur.Built           88787 non-null  object \n",
      " 17  Number.of.Engines       82805 non-null  float64\n",
      " 18  Engine.Type             81812 non-null  object \n",
      " 19  FAR.Description         32023 non-null  object \n",
      " 20  Schedule                12582 non-null  object \n",
      " 21  Purpose.of.flight       82697 non-null  object \n",
      " 22  Air.carrier             16648 non-null  object \n",
      " 23  Total.Fatal.Injuries    77488 non-null  float64\n",
      " 24  Total.Serious.Injuries  76379 non-null  float64\n",
      " 25  Total.Minor.Injuries    76956 non-null  float64\n",
      " 26  Total.Uninjured         82977 non-null  float64\n",
      " 27  Weather.Condition       84397 non-null  object \n",
      " 28  Broad.phase.of.flight   61724 non-null  object \n",
      " 29  Report.Status           82508 non-null  object \n",
      " 30  Publication.Date        75118 non-null  object \n",
      "dtypes: float64(5), object(26)\n",
      "memory usage: 21.0+ MB\n"
     ]
    }
   ],
   "source": [
    "#checking the summary of our dataset\n",
    "df1.info()"
   ]
  },
  {
   "cell_type": "markdown",
   "id": "5d652493-dc1b-4e50-8476-df34ba82b839",
   "metadata": {},
   "source": [
    "## 4. Data Cleaning and Preparation"
   ]
  },
  {
   "cell_type": "markdown",
   "id": "57bcba84-7817-407b-80f2-edd8546fa4a2",
   "metadata": {},
   "source": [
    "lets clean the data, merge state names, and proceed with analysis"
   ]
  },
  {
   "cell_type": "code",
   "execution_count": 24,
   "id": "014d0d30-f1de-4b57-9512-ad014e2e4431",
   "metadata": {},
   "outputs": [
    {
     "data": {
      "text/html": [
       "<div>\n",
       "<style scoped>\n",
       "    .dataframe tbody tr th:only-of-type {\n",
       "        vertical-align: middle;\n",
       "    }\n",
       "\n",
       "    .dataframe tbody tr th {\n",
       "        vertical-align: top;\n",
       "    }\n",
       "\n",
       "    .dataframe thead th {\n",
       "        text-align: right;\n",
       "    }\n",
       "</style>\n",
       "<table border=\"1\" class=\"dataframe\">\n",
       "  <thead>\n",
       "    <tr style=\"text-align: right;\">\n",
       "      <th></th>\n",
       "      <th>Location</th>\n",
       "      <th>State_Abbreviation</th>\n",
       "      <th>State</th>\n",
       "    </tr>\n",
       "  </thead>\n",
       "  <tbody>\n",
       "    <tr>\n",
       "      <th>0</th>\n",
       "      <td>MOOSE CREEK, ID</td>\n",
       "      <td>ID</td>\n",
       "      <td>Idaho</td>\n",
       "    </tr>\n",
       "    <tr>\n",
       "      <th>1</th>\n",
       "      <td>BRIDGEPORT, CA</td>\n",
       "      <td>CA</td>\n",
       "      <td>California</td>\n",
       "    </tr>\n",
       "    <tr>\n",
       "      <th>2</th>\n",
       "      <td>Saltville, VA</td>\n",
       "      <td>VA</td>\n",
       "      <td>Virginia</td>\n",
       "    </tr>\n",
       "    <tr>\n",
       "      <th>3</th>\n",
       "      <td>EUREKA, CA</td>\n",
       "      <td>CA</td>\n",
       "      <td>California</td>\n",
       "    </tr>\n",
       "    <tr>\n",
       "      <th>4</th>\n",
       "      <td>Canton, OH</td>\n",
       "      <td>OH</td>\n",
       "      <td>Ohio</td>\n",
       "    </tr>\n",
       "  </tbody>\n",
       "</table>\n",
       "</div>"
      ],
      "text/plain": [
       "          Location State_Abbreviation       State\n",
       "0  MOOSE CREEK, ID                 ID       Idaho\n",
       "1   BRIDGEPORT, CA                 CA  California\n",
       "2    Saltville, VA                 VA    Virginia\n",
       "3       EUREKA, CA                 CA  California\n",
       "4       Canton, OH                 OH        Ohio"
      ]
     },
     "execution_count": 24,
     "metadata": {},
     "output_type": "execute_result"
    }
   ],
   "source": [
    "# Extract state abbreviations from the 'Location' column\n",
    "df1['State_Abbreviation'] = df1['Location'].str.extract(r',\\s*([A-Z]{2})$')\n",
    "\n",
    "# Merge with state codes to get full state names\n",
    "df1 = df1.merge(df2, left_on='State_Abbreviation', right_on='Abbreviation', how='left')\n",
    "\n",
    "# Drop redundant abbreviation column\n",
    "df1.drop(columns=['Abbreviation'], inplace=True)\n",
    "\n",
    "# Rename the column for clarity\n",
    "df1.rename(columns={'US_State': 'State'}, inplace=True)\n",
    "\n",
    "# Check the updates\n",
    "df1[['Location', 'State_Abbreviation', 'State']].head(5)"
   ]
  },
  {
   "cell_type": "code",
   "execution_count": 25,
   "id": "b42ed44e-de39-49d6-88fa-cd0a839efa8d",
   "metadata": {},
   "outputs": [
    {
     "data": {
      "text/html": [
       "<div>\n",
       "<style scoped>\n",
       "    .dataframe tbody tr th:only-of-type {\n",
       "        vertical-align: middle;\n",
       "    }\n",
       "\n",
       "    .dataframe tbody tr th {\n",
       "        vertical-align: top;\n",
       "    }\n",
       "\n",
       "    .dataframe thead th {\n",
       "        text-align: right;\n",
       "    }\n",
       "</style>\n",
       "<table border=\"1\" class=\"dataframe\">\n",
       "  <thead>\n",
       "    <tr style=\"text-align: right;\">\n",
       "      <th></th>\n",
       "      <th>Event.Id</th>\n",
       "      <th>Investigation.Type</th>\n",
       "      <th>Accident.Number</th>\n",
       "      <th>Event.Date</th>\n",
       "      <th>Location</th>\n",
       "      <th>Country</th>\n",
       "      <th>Latitude</th>\n",
       "      <th>Longitude</th>\n",
       "      <th>Airport.Code</th>\n",
       "      <th>Airport.Name</th>\n",
       "      <th>...</th>\n",
       "      <th>Total.Fatal.Injuries</th>\n",
       "      <th>Total.Serious.Injuries</th>\n",
       "      <th>Total.Minor.Injuries</th>\n",
       "      <th>Total.Uninjured</th>\n",
       "      <th>Weather.Condition</th>\n",
       "      <th>Broad.phase.of.flight</th>\n",
       "      <th>Report.Status</th>\n",
       "      <th>Publication.Date</th>\n",
       "      <th>State_Abbreviation</th>\n",
       "      <th>State</th>\n",
       "    </tr>\n",
       "  </thead>\n",
       "  <tbody>\n",
       "    <tr>\n",
       "      <th>0</th>\n",
       "      <td>20001218X45444</td>\n",
       "      <td>Accident</td>\n",
       "      <td>SEA87LA080</td>\n",
       "      <td>1948-10-24</td>\n",
       "      <td>MOOSE CREEK, ID</td>\n",
       "      <td>United States</td>\n",
       "      <td>NaN</td>\n",
       "      <td>NaN</td>\n",
       "      <td>NaN</td>\n",
       "      <td>NaN</td>\n",
       "      <td>...</td>\n",
       "      <td>2.0</td>\n",
       "      <td>0.0</td>\n",
       "      <td>0.0</td>\n",
       "      <td>0.0</td>\n",
       "      <td>UNK</td>\n",
       "      <td>Cruise</td>\n",
       "      <td>Probable Cause</td>\n",
       "      <td>NaN</td>\n",
       "      <td>ID</td>\n",
       "      <td>Idaho</td>\n",
       "    </tr>\n",
       "    <tr>\n",
       "      <th>1</th>\n",
       "      <td>20001218X45447</td>\n",
       "      <td>Accident</td>\n",
       "      <td>LAX94LA336</td>\n",
       "      <td>1962-07-19</td>\n",
       "      <td>BRIDGEPORT, CA</td>\n",
       "      <td>United States</td>\n",
       "      <td>NaN</td>\n",
       "      <td>NaN</td>\n",
       "      <td>NaN</td>\n",
       "      <td>NaN</td>\n",
       "      <td>...</td>\n",
       "      <td>4.0</td>\n",
       "      <td>0.0</td>\n",
       "      <td>0.0</td>\n",
       "      <td>0.0</td>\n",
       "      <td>UNK</td>\n",
       "      <td>Unknown</td>\n",
       "      <td>Probable Cause</td>\n",
       "      <td>19-09-1996</td>\n",
       "      <td>CA</td>\n",
       "      <td>California</td>\n",
       "    </tr>\n",
       "    <tr>\n",
       "      <th>2</th>\n",
       "      <td>20061025X01555</td>\n",
       "      <td>Accident</td>\n",
       "      <td>NYC07LA005</td>\n",
       "      <td>1974-08-30</td>\n",
       "      <td>Saltville, VA</td>\n",
       "      <td>United States</td>\n",
       "      <td>36.922223</td>\n",
       "      <td>-81.878056</td>\n",
       "      <td>NaN</td>\n",
       "      <td>NaN</td>\n",
       "      <td>...</td>\n",
       "      <td>3.0</td>\n",
       "      <td>NaN</td>\n",
       "      <td>NaN</td>\n",
       "      <td>NaN</td>\n",
       "      <td>IMC</td>\n",
       "      <td>Cruise</td>\n",
       "      <td>Probable Cause</td>\n",
       "      <td>26-02-2007</td>\n",
       "      <td>VA</td>\n",
       "      <td>Virginia</td>\n",
       "    </tr>\n",
       "    <tr>\n",
       "      <th>3</th>\n",
       "      <td>20001218X45448</td>\n",
       "      <td>Accident</td>\n",
       "      <td>LAX96LA321</td>\n",
       "      <td>1977-06-19</td>\n",
       "      <td>EUREKA, CA</td>\n",
       "      <td>United States</td>\n",
       "      <td>NaN</td>\n",
       "      <td>NaN</td>\n",
       "      <td>NaN</td>\n",
       "      <td>NaN</td>\n",
       "      <td>...</td>\n",
       "      <td>2.0</td>\n",
       "      <td>0.0</td>\n",
       "      <td>0.0</td>\n",
       "      <td>0.0</td>\n",
       "      <td>IMC</td>\n",
       "      <td>Cruise</td>\n",
       "      <td>Probable Cause</td>\n",
       "      <td>12-09-2000</td>\n",
       "      <td>CA</td>\n",
       "      <td>California</td>\n",
       "    </tr>\n",
       "    <tr>\n",
       "      <th>4</th>\n",
       "      <td>20041105X01764</td>\n",
       "      <td>Accident</td>\n",
       "      <td>CHI79FA064</td>\n",
       "      <td>1979-08-02</td>\n",
       "      <td>Canton, OH</td>\n",
       "      <td>United States</td>\n",
       "      <td>NaN</td>\n",
       "      <td>NaN</td>\n",
       "      <td>NaN</td>\n",
       "      <td>NaN</td>\n",
       "      <td>...</td>\n",
       "      <td>1.0</td>\n",
       "      <td>2.0</td>\n",
       "      <td>NaN</td>\n",
       "      <td>0.0</td>\n",
       "      <td>VMC</td>\n",
       "      <td>Approach</td>\n",
       "      <td>Probable Cause</td>\n",
       "      <td>16-04-1980</td>\n",
       "      <td>OH</td>\n",
       "      <td>Ohio</td>\n",
       "    </tr>\n",
       "  </tbody>\n",
       "</table>\n",
       "<p>5 rows × 33 columns</p>\n",
       "</div>"
      ],
      "text/plain": [
       "         Event.Id Investigation.Type Accident.Number  Event.Date  \\\n",
       "0  20001218X45444           Accident      SEA87LA080  1948-10-24   \n",
       "1  20001218X45447           Accident      LAX94LA336  1962-07-19   \n",
       "2  20061025X01555           Accident      NYC07LA005  1974-08-30   \n",
       "3  20001218X45448           Accident      LAX96LA321  1977-06-19   \n",
       "4  20041105X01764           Accident      CHI79FA064  1979-08-02   \n",
       "\n",
       "          Location        Country   Latitude   Longitude Airport.Code  \\\n",
       "0  MOOSE CREEK, ID  United States        NaN         NaN          NaN   \n",
       "1   BRIDGEPORT, CA  United States        NaN         NaN          NaN   \n",
       "2    Saltville, VA  United States  36.922223  -81.878056          NaN   \n",
       "3       EUREKA, CA  United States        NaN         NaN          NaN   \n",
       "4       Canton, OH  United States        NaN         NaN          NaN   \n",
       "\n",
       "  Airport.Name  ... Total.Fatal.Injuries Total.Serious.Injuries  \\\n",
       "0          NaN  ...                  2.0                    0.0   \n",
       "1          NaN  ...                  4.0                    0.0   \n",
       "2          NaN  ...                  3.0                    NaN   \n",
       "3          NaN  ...                  2.0                    0.0   \n",
       "4          NaN  ...                  1.0                    2.0   \n",
       "\n",
       "  Total.Minor.Injuries Total.Uninjured Weather.Condition  \\\n",
       "0                  0.0             0.0               UNK   \n",
       "1                  0.0             0.0               UNK   \n",
       "2                  NaN             NaN               IMC   \n",
       "3                  0.0             0.0               IMC   \n",
       "4                  NaN             0.0               VMC   \n",
       "\n",
       "  Broad.phase.of.flight   Report.Status  Publication.Date State_Abbreviation  \\\n",
       "0                Cruise  Probable Cause               NaN                 ID   \n",
       "1               Unknown  Probable Cause        19-09-1996                 CA   \n",
       "2                Cruise  Probable Cause        26-02-2007                 VA   \n",
       "3                Cruise  Probable Cause        12-09-2000                 CA   \n",
       "4              Approach  Probable Cause        16-04-1980                 OH   \n",
       "\n",
       "        State  \n",
       "0       Idaho  \n",
       "1  California  \n",
       "2    Virginia  \n",
       "3  California  \n",
       "4        Ohio  \n",
       "\n",
       "[5 rows x 33 columns]"
      ]
     },
     "execution_count": 25,
     "metadata": {},
     "output_type": "execute_result"
    }
   ],
   "source": [
    "df1.head()"
   ]
  },
  {
   "cell_type": "markdown",
   "id": "0c30876f-7dfc-4f0f-b66a-d168374c6fb0",
   "metadata": {},
   "source": [
    "The dataset now includes full state names instead of abbreviations, making it more readable."
   ]
  },
  {
   "cell_type": "code",
   "execution_count": 27,
   "id": "887c8e5e-c07c-4897-a7d7-46ffaff2903b",
   "metadata": {},
   "outputs": [
    {
     "data": {
      "text/plain": [
       "Event.Id                      0\n",
       "Investigation.Type            0\n",
       "Accident.Number               0\n",
       "Event.Date                    0\n",
       "Location                     52\n",
       "Country                     226\n",
       "Latitude                  54507\n",
       "Longitude                 54516\n",
       "Airport.Code              38640\n",
       "Airport.Name              36099\n",
       "Injury.Severity            1000\n",
       "Aircraft.damage            3194\n",
       "Aircraft.Category         56602\n",
       "Registration.Number        1317\n",
       "Make                         63\n",
       "Model                        92\n",
       "Amateur.Built               102\n",
       "Number.of.Engines          6084\n",
       "Engine.Type                7077\n",
       "FAR.Description           56866\n",
       "Schedule                  76307\n",
       "Purpose.of.flight          6192\n",
       "Air.carrier               72241\n",
       "Total.Fatal.Injuries      11401\n",
       "Total.Serious.Injuries    12510\n",
       "Total.Minor.Injuries      11933\n",
       "Total.Uninjured            5912\n",
       "Weather.Condition          4492\n",
       "Broad.phase.of.flight     27165\n",
       "Report.Status              6381\n",
       "Publication.Date          13771\n",
       "State_Abbreviation         6463\n",
       "State                      6727\n",
       "dtype: int64"
      ]
     },
     "execution_count": 27,
     "metadata": {},
     "output_type": "execute_result"
    }
   ],
   "source": [
    "# Checking for missing values\n",
    "df1.isnull().sum()"
   ]
  },
  {
   "cell_type": "markdown",
   "id": "80e49076-da66-49ea-9677-29e0d766830a",
   "metadata": {},
   "source": [
    "We can clearly ascertain that there are missing values in our df1 dataset that need to be handled. We will focus only on the columns that align directly with our business problem and objectives."
   ]
  },
  {
   "cell_type": "markdown",
   "id": "4364d81b-f01f-4456-8e22-7b7186bc6e94",
   "metadata": {
    "jp-MarkdownHeadingCollapsed": true
   },
   "source": [
    "### Handling Missing Data"
   ]
  },
  {
   "cell_type": "markdown",
   "id": "3e9cd90b-50f2-4ddd-b180-714d33bb2868",
   "metadata": {},
   "source": [
    "Lets Drop columns with excessive missing values and Drop rows with missing critical information"
   ]
  },
  {
   "cell_type": "code",
   "execution_count": 31,
   "id": "ae4f415b-c1bd-439f-a349-84fc070950b8",
   "metadata": {},
   "outputs": [],
   "source": [
    "# create a copy of our dataset\n",
    "df1_copy = df1.copy()"
   ]
  },
  {
   "cell_type": "code",
   "execution_count": 32,
   "id": "0235c539-57f5-4b08-b849-e61c555a834c",
   "metadata": {},
   "outputs": [],
   "source": [
    "#dropping columns with excessive missing values, that are unlikely to contribute meaningful insights to our analysis. \n",
    "df1_copy.drop(columns=['Latitude', 'Longitude', 'Schedule', 'Air.carrier', 'FAR.Description', 'Airport.Code','Broad.phase.of.flight','Airport.Name'], inplace=True)"
   ]
  },
  {
   "cell_type": "code",
   "execution_count": 33,
   "id": "5e860609-4875-44a5-8dcc-0840eb2d9a9b",
   "metadata": {},
   "outputs": [],
   "source": [
    "# drop rows with missing values\n",
    "df1_copy.dropna(inplace = True)"
   ]
  },
  {
   "cell_type": "code",
   "execution_count": 34,
   "id": "f8f847db-706e-4800-9906-f3fe2ddb2f58",
   "metadata": {},
   "outputs": [
    {
     "data": {
      "text/plain": [
       "(19695, 25)"
      ]
     },
     "execution_count": 34,
     "metadata": {},
     "output_type": "execute_result"
    }
   ],
   "source": [
    "#confirming the changes \n",
    "df1_copy.shape"
   ]
  },
  {
   "cell_type": "code",
   "execution_count": 35,
   "id": "6a8baf58-fb94-4781-8e54-015109c8f1f5",
   "metadata": {},
   "outputs": [
    {
     "data": {
      "text/plain": [
       "0"
      ]
     },
     "execution_count": 35,
     "metadata": {},
     "output_type": "execute_result"
    }
   ],
   "source": [
    "#lets check for duplicates and drop them if any\n",
    "df1_copy.duplicated().sum()"
   ]
  },
  {
   "cell_type": "markdown",
   "id": "c503673c-f32a-45ac-9f02-5d542ec96455",
   "metadata": {},
   "source": [
    "The dataset is free from duplicates"
   ]
  },
  {
   "cell_type": "code",
   "execution_count": 37,
   "id": "4060b57b-cf06-4454-85d2-55faa8ebbc83",
   "metadata": {},
   "outputs": [
    {
     "data": {
      "text/plain": [
       "Event.Id                   object\n",
       "Investigation.Type         object\n",
       "Accident.Number            object\n",
       "Event.Date                 object\n",
       "Location                   object\n",
       "Country                    object\n",
       "Injury.Severity            object\n",
       "Aircraft.damage            object\n",
       "Aircraft.Category          object\n",
       "Registration.Number        object\n",
       "Make                       object\n",
       "Model                      object\n",
       "Amateur.Built              object\n",
       "Number.of.Engines         float64\n",
       "Engine.Type                object\n",
       "Purpose.of.flight          object\n",
       "Total.Fatal.Injuries      float64\n",
       "Total.Serious.Injuries    float64\n",
       "Total.Minor.Injuries      float64\n",
       "Total.Uninjured           float64\n",
       "Weather.Condition          object\n",
       "Report.Status              object\n",
       "Publication.Date           object\n",
       "State_Abbreviation         object\n",
       "State                      object\n",
       "dtype: object"
      ]
     },
     "execution_count": 37,
     "metadata": {},
     "output_type": "execute_result"
    }
   ],
   "source": [
    "#check for datatypes and modify any inconsistent dtypes\n",
    "df1_copy.dtypes"
   ]
  },
  {
   "cell_type": "code",
   "execution_count": 38,
   "id": "33a9bee8-bb6f-442d-9e2d-92796b0127c1",
   "metadata": {},
   "outputs": [
    {
     "data": {
      "text/plain": [
       "Event.Id                          object\n",
       "Investigation.Type                object\n",
       "Accident.Number                   object\n",
       "Event.Date                datetime64[ns]\n",
       "Location                          object\n",
       "Country                           object\n",
       "Injury.Severity                   object\n",
       "Aircraft.damage                   object\n",
       "Aircraft.Category                 object\n",
       "Registration.Number               object\n",
       "Make                              object\n",
       "Model                             object\n",
       "Amateur.Built                       bool\n",
       "Number.of.Engines                float64\n",
       "Engine.Type                       object\n",
       "Purpose.of.flight                 object\n",
       "Total.Fatal.Injuries             float64\n",
       "Total.Serious.Injuries           float64\n",
       "Total.Minor.Injuries             float64\n",
       "Total.Uninjured                  float64\n",
       "Weather.Condition                 object\n",
       "Report.Status                     object\n",
       "Publication.Date          datetime64[ns]\n",
       "State_Abbreviation                object\n",
       "State                             object\n",
       "dtype: object"
      ]
     },
     "execution_count": 38,
     "metadata": {},
     "output_type": "execute_result"
    }
   ],
   "source": [
    "# Convert 'Event.Date' , 'Publication.Date' to datetime format and Amateur.Built to boolean\n",
    "df1_copy['Event.Date'] = pd.to_datetime(df1_copy['Event.Date'], errors='coerce')\n",
    "df1_copy['Publication.Date'] = pd.to_datetime(df1_copy['Publication.Date'], errors='coerce')\n",
    "df1_copy[\"Amateur.Built\"] = df1_copy[\"Amateur.Built\"].str.strip().str.lower().map({\"yes\": True, \"no\": False})\n",
    "\n",
    "df1_copy.dtypes"
   ]
  },
  {
   "cell_type": "code",
   "execution_count": 39,
   "id": "a450df7a-664a-4d26-8769-6b4b010398fb",
   "metadata": {},
   "outputs": [
    {
     "data": {
      "text/html": [
       "<div>\n",
       "<style scoped>\n",
       "    .dataframe tbody tr th:only-of-type {\n",
       "        vertical-align: middle;\n",
       "    }\n",
       "\n",
       "    .dataframe tbody tr th {\n",
       "        vertical-align: top;\n",
       "    }\n",
       "\n",
       "    .dataframe thead th {\n",
       "        text-align: right;\n",
       "    }\n",
       "</style>\n",
       "<table border=\"1\" class=\"dataframe\">\n",
       "  <thead>\n",
       "    <tr style=\"text-align: right;\">\n",
       "      <th></th>\n",
       "      <th>Event.Id</th>\n",
       "      <th>Investigation.Type</th>\n",
       "      <th>Accident.Number</th>\n",
       "      <th>Event.Date</th>\n",
       "      <th>Location</th>\n",
       "      <th>Country</th>\n",
       "      <th>Injury.Severity</th>\n",
       "      <th>Aircraft.damage</th>\n",
       "      <th>Aircraft.Category</th>\n",
       "      <th>Registration.Number</th>\n",
       "      <th>...</th>\n",
       "      <th>Purpose.of.flight</th>\n",
       "      <th>Total.Fatal.Injuries</th>\n",
       "      <th>Total.Serious.Injuries</th>\n",
       "      <th>Total.Minor.Injuries</th>\n",
       "      <th>Total.Uninjured</th>\n",
       "      <th>Weather.Condition</th>\n",
       "      <th>Report.Status</th>\n",
       "      <th>Publication.Date</th>\n",
       "      <th>State_Abbreviation</th>\n",
       "      <th>State</th>\n",
       "    </tr>\n",
       "  </thead>\n",
       "  <tbody>\n",
       "    <tr>\n",
       "      <th>7</th>\n",
       "      <td>20020909X01562</td>\n",
       "      <td>Accident</td>\n",
       "      <td>SEA82DA022</td>\n",
       "      <td>1982-01-01</td>\n",
       "      <td>PULLMAN, WA</td>\n",
       "      <td>United States</td>\n",
       "      <td>Non-Fatal</td>\n",
       "      <td>Substantial</td>\n",
       "      <td>Airplane</td>\n",
       "      <td>N2482N</td>\n",
       "      <td>...</td>\n",
       "      <td>Personal</td>\n",
       "      <td>0.0</td>\n",
       "      <td>0.0</td>\n",
       "      <td>0.0</td>\n",
       "      <td>2.0</td>\n",
       "      <td>VMC</td>\n",
       "      <td>Probable Cause</td>\n",
       "      <td>1982-01-01</td>\n",
       "      <td>WA</td>\n",
       "      <td>Washington</td>\n",
       "    </tr>\n",
       "    <tr>\n",
       "      <th>8</th>\n",
       "      <td>20020909X01561</td>\n",
       "      <td>Accident</td>\n",
       "      <td>NYC82DA015</td>\n",
       "      <td>1982-01-01</td>\n",
       "      <td>EAST HANOVER, NJ</td>\n",
       "      <td>United States</td>\n",
       "      <td>Non-Fatal</td>\n",
       "      <td>Substantial</td>\n",
       "      <td>Airplane</td>\n",
       "      <td>N7967Q</td>\n",
       "      <td>...</td>\n",
       "      <td>Business</td>\n",
       "      <td>0.0</td>\n",
       "      <td>0.0</td>\n",
       "      <td>0.0</td>\n",
       "      <td>2.0</td>\n",
       "      <td>IMC</td>\n",
       "      <td>Probable Cause</td>\n",
       "      <td>1982-01-01</td>\n",
       "      <td>NJ</td>\n",
       "      <td>New Jersey</td>\n",
       "    </tr>\n",
       "    <tr>\n",
       "      <th>12</th>\n",
       "      <td>20020917X02148</td>\n",
       "      <td>Accident</td>\n",
       "      <td>FTW82FRJ07</td>\n",
       "      <td>1982-01-02</td>\n",
       "      <td>HOMER, LA</td>\n",
       "      <td>United States</td>\n",
       "      <td>Non-Fatal</td>\n",
       "      <td>Destroyed</td>\n",
       "      <td>Airplane</td>\n",
       "      <td>N14779</td>\n",
       "      <td>...</td>\n",
       "      <td>Personal</td>\n",
       "      <td>0.0</td>\n",
       "      <td>0.0</td>\n",
       "      <td>1.0</td>\n",
       "      <td>0.0</td>\n",
       "      <td>IMC</td>\n",
       "      <td>Probable Cause</td>\n",
       "      <td>1983-02-01</td>\n",
       "      <td>LA</td>\n",
       "      <td>Louisiana</td>\n",
       "    </tr>\n",
       "    <tr>\n",
       "      <th>13</th>\n",
       "      <td>20020917X02134</td>\n",
       "      <td>Accident</td>\n",
       "      <td>FTW82FRA14</td>\n",
       "      <td>1982-01-02</td>\n",
       "      <td>HEARNE, TX</td>\n",
       "      <td>United States</td>\n",
       "      <td>Fatal(1)</td>\n",
       "      <td>Destroyed</td>\n",
       "      <td>Airplane</td>\n",
       "      <td>N758SK</td>\n",
       "      <td>...</td>\n",
       "      <td>Personal</td>\n",
       "      <td>1.0</td>\n",
       "      <td>0.0</td>\n",
       "      <td>0.0</td>\n",
       "      <td>0.0</td>\n",
       "      <td>IMC</td>\n",
       "      <td>Probable Cause</td>\n",
       "      <td>1983-02-01</td>\n",
       "      <td>TX</td>\n",
       "      <td>Texas</td>\n",
       "    </tr>\n",
       "    <tr>\n",
       "      <th>14</th>\n",
       "      <td>20020917X02119</td>\n",
       "      <td>Accident</td>\n",
       "      <td>FTW82FPJ10</td>\n",
       "      <td>1982-01-02</td>\n",
       "      <td>CHICKASHA, OK</td>\n",
       "      <td>United States</td>\n",
       "      <td>Fatal(1)</td>\n",
       "      <td>Destroyed</td>\n",
       "      <td>Airplane</td>\n",
       "      <td>N4876K</td>\n",
       "      <td>...</td>\n",
       "      <td>Personal</td>\n",
       "      <td>1.0</td>\n",
       "      <td>0.0</td>\n",
       "      <td>0.0</td>\n",
       "      <td>0.0</td>\n",
       "      <td>IMC</td>\n",
       "      <td>Probable Cause</td>\n",
       "      <td>1983-02-01</td>\n",
       "      <td>OK</td>\n",
       "      <td>Oklahoma</td>\n",
       "    </tr>\n",
       "  </tbody>\n",
       "</table>\n",
       "<p>5 rows × 25 columns</p>\n",
       "</div>"
      ],
      "text/plain": [
       "          Event.Id Investigation.Type Accident.Number Event.Date  \\\n",
       "7   20020909X01562           Accident      SEA82DA022 1982-01-01   \n",
       "8   20020909X01561           Accident      NYC82DA015 1982-01-01   \n",
       "12  20020917X02148           Accident      FTW82FRJ07 1982-01-02   \n",
       "13  20020917X02134           Accident      FTW82FRA14 1982-01-02   \n",
       "14  20020917X02119           Accident      FTW82FPJ10 1982-01-02   \n",
       "\n",
       "            Location        Country Injury.Severity Aircraft.damage  \\\n",
       "7        PULLMAN, WA  United States       Non-Fatal     Substantial   \n",
       "8   EAST HANOVER, NJ  United States       Non-Fatal     Substantial   \n",
       "12         HOMER, LA  United States       Non-Fatal       Destroyed   \n",
       "13        HEARNE, TX  United States        Fatal(1)       Destroyed   \n",
       "14     CHICKASHA, OK  United States        Fatal(1)       Destroyed   \n",
       "\n",
       "   Aircraft.Category Registration.Number  ... Purpose.of.flight  \\\n",
       "7           Airplane              N2482N  ...          Personal   \n",
       "8           Airplane              N7967Q  ...          Business   \n",
       "12          Airplane              N14779  ...          Personal   \n",
       "13          Airplane              N758SK  ...          Personal   \n",
       "14          Airplane              N4876K  ...          Personal   \n",
       "\n",
       "   Total.Fatal.Injuries  Total.Serious.Injuries  Total.Minor.Injuries  \\\n",
       "7                   0.0                     0.0                   0.0   \n",
       "8                   0.0                     0.0                   0.0   \n",
       "12                  0.0                     0.0                   1.0   \n",
       "13                  1.0                     0.0                   0.0   \n",
       "14                  1.0                     0.0                   0.0   \n",
       "\n",
       "   Total.Uninjured Weather.Condition   Report.Status  Publication.Date  \\\n",
       "7              2.0               VMC  Probable Cause        1982-01-01   \n",
       "8              2.0               IMC  Probable Cause        1982-01-01   \n",
       "12             0.0               IMC  Probable Cause        1983-02-01   \n",
       "13             0.0               IMC  Probable Cause        1983-02-01   \n",
       "14             0.0               IMC  Probable Cause        1983-02-01   \n",
       "\n",
       "    State_Abbreviation       State  \n",
       "7                   WA  Washington  \n",
       "8                   NJ  New Jersey  \n",
       "12                  LA   Louisiana  \n",
       "13                  TX       Texas  \n",
       "14                  OK    Oklahoma  \n",
       "\n",
       "[5 rows x 25 columns]"
      ]
     },
     "execution_count": 39,
     "metadata": {},
     "output_type": "execute_result"
    }
   ],
   "source": [
    "# Display cleaned dataset\n",
    "df1_copy.head()"
   ]
  },
  {
   "cell_type": "markdown",
   "id": "60d9de2e-0b5b-47d7-827e-b5bf44c9ed79",
   "metadata": {},
   "source": [
    "## 5. Data Analysis and visualization"
   ]
  },
  {
   "cell_type": "markdown",
   "id": "4f22b2de-af7e-4699-86e2-bd13557ac49e",
   "metadata": {},
   "source": [
    "### i. Trends in aviation accidents over time\n",
    "We'll group the data by year and plot a line chart to observe trends."
   ]
  },
  {
   "cell_type": "code",
   "execution_count": 42,
   "id": "ebb1669c-627c-47a6-bd4f-f9923733539c",
   "metadata": {},
   "outputs": [
    {
     "data": {
      "image/png": "[encoded data removed]",
      "text/plain": [
       "<Figure size 864x432 with 1 Axes>"
      ]
     },
     "metadata": {},
     "output_type": "display_data"
    }
   ],
   "source": [
    "\n",
    "# Extract year from Event.Date\n",
    "df1_copy[\"Year\"] = df1_copy[\"Event.Date\"].dt.year\n",
    "\n",
    "# Count accidents per year\n",
    "accidents_per_year = df1_copy.groupby(\"Year\").size()\n",
    "\n",
    "# Plot the trend\n",
    "plt.figure(figsize=(12, 6))\n",
    "sns.lineplot(x=accidents_per_year.index, y=accidents_per_year.values, marker=\"o\", color=\"b\")\n",
    "\n",
    "plt.title(\"Aviation Accident Trends Over Time\", fontsize=14)\n",
    "plt.xlabel(\"Year\", fontsize=12)\n",
    "plt.ylabel(\"Number of Accidents\", fontsize=12)\n",
    "plt.grid(True)\n",
    "plt.show()\n"
   ]
  },
  {
   "cell_type": "markdown",
   "id": "b5250692-d5f9-4e2e-9cc3-4a6f2e970061",
   "metadata": {},
   "source": [
    "The line chart illustrates the trend of aviation accidents from 1980 to the present.\n",
    "- The number of aviation accidents was extremely high around 1980, reaching over 3,500 incidents. There was a dramatic drop in accidents by the late 1980s, suggesting significant improvements in aviation safety, regulatory measures, or changes in reporting practices.\n",
    "- From the 1990s to early 2000s, the number of recorded accidents remained extremely low.\n",
    "- A sharp increase in accidents occurred in the mid-2000s, reaching over 1,500 incidents per year. Possible reasons include changes in aviation traffic, an increase in aircraft operations, or more comprehensive accident reporting.\n",
    "- After peaking, the accident rate fluctuates but remains relatively high until around 2020. A noticeable decline in accidents is observed in recent years, possibly due to advancements in aircraft safety, stricter regulations, or the impact of reduced air travel (e.g., due to the COVID-19 pandemic).\n",
    "\n",
    "##### Insights for Business Decision-Making\n",
    "- The overall trend suggests aviation safety has improved significantly since the 1980s.\n",
    "- Recent declines in accidents indicate safer aircraft and better risk management, making this an opportune time for new investments in aviation."
   ]
  },
  {
   "cell_type": "markdown",
   "id": "a6885408-dd66-431a-9756-2e8f9d6ea5ff",
   "metadata": {},
   "source": [
    "### ii. Common causes of accidents"
   ]
  },
  {
   "cell_type": "markdown",
   "id": "fb92b8dc-beb3-4a46-8114-5f88e6a96ab4",
   "metadata": {
    "jp-MarkdownHeadingCollapsed": true
   },
   "source": [
    "#### Accidents by number of engines\n",
    "lets create a pivot table Summarizing accidents by engine count."
   ]
  },
  {
   "cell_type": "code",
   "execution_count": 46,
   "id": "4785b580-eb43-46b8-b1cc-799f0ea978c4",
   "metadata": {},
   "outputs": [
    {
     "data": {
      "text/html": [
       "<div>\n",
       "<style scoped>\n",
       "    .dataframe tbody tr th:only-of-type {\n",
       "        vertical-align: middle;\n",
       "    }\n",
       "\n",
       "    .dataframe tbody tr th {\n",
       "        vertical-align: top;\n",
       "    }\n",
       "\n",
       "    .dataframe thead th {\n",
       "        text-align: right;\n",
       "    }\n",
       "</style>\n",
       "<table border=\"1\" class=\"dataframe\">\n",
       "  <thead>\n",
       "    <tr style=\"text-align: right;\">\n",
       "      <th></th>\n",
       "      <th>Number.of.Engines</th>\n",
       "      <th>Accident Count</th>\n",
       "    </tr>\n",
       "  </thead>\n",
       "  <tbody>\n",
       "    <tr>\n",
       "      <th>0</th>\n",
       "      <td>0.0</td>\n",
       "      <td>83</td>\n",
       "    </tr>\n",
       "    <tr>\n",
       "      <th>1</th>\n",
       "      <td>1.0</td>\n",
       "      <td>17899</td>\n",
       "    </tr>\n",
       "    <tr>\n",
       "      <th>2</th>\n",
       "      <td>2.0</td>\n",
       "      <td>1681</td>\n",
       "    </tr>\n",
       "    <tr>\n",
       "      <th>3</th>\n",
       "      <td>3.0</td>\n",
       "      <td>16</td>\n",
       "    </tr>\n",
       "    <tr>\n",
       "      <th>4</th>\n",
       "      <td>4.0</td>\n",
       "      <td>14</td>\n",
       "    </tr>\n",
       "    <tr>\n",
       "      <th>5</th>\n",
       "      <td>8.0</td>\n",
       "      <td>2</td>\n",
       "    </tr>\n",
       "  </tbody>\n",
       "</table>\n",
       "</div>"
      ],
      "text/plain": [
       "   Number.of.Engines  Accident Count\n",
       "0                0.0              83\n",
       "1                1.0           17899\n",
       "2                2.0            1681\n",
       "3                3.0              16\n",
       "4                4.0              14\n",
       "5                8.0               2"
      ]
     },
     "execution_count": 46,
     "metadata": {},
     "output_type": "execute_result"
    }
   ],
   "source": [
    "# Pivot table summarizing accidents by number of engines\n",
    "engine_pivot = df1_copy.groupby(\"Number.of.Engines\")[\"Event.Id\"].count().reset_index()\n",
    "engine_pivot.rename(columns={\"Event.Id\": \"Accident Count\"}, inplace=True)\n",
    "engine_pivot"
   ]
  },
  {
   "cell_type": "markdown",
   "id": "1dd78d85-b656-4bed-af93-778413c73349",
   "metadata": {},
   "source": [
    "Number of accidents reduces by increased number of engines"
   ]
  },
  {
   "cell_type": "code",
   "execution_count": 48,
   "id": "c5024225-8b6c-422f-bd3b-62b3002c4e66",
   "metadata": {},
   "outputs": [
    {
     "data": {
      "image/png": "[encoded data removed]",
      "text/plain": [
       "<Figure size 720x432 with 1 Axes>"
      ]
     },
     "metadata": {},
     "output_type": "display_data"
    }
   ],
   "source": [
    "# Plot accidents by number of engines\n",
    "plt.figure(figsize=(10, 6))\n",
    "sns.barplot(data=engine_pivot, x=\"Number.of.Engines\", y=\"Accident Count\", palette=\"mako\")\n",
    "\n",
    "# Formatting\n",
    "plt.title(\"Accidents by Number of Engines\")\n",
    "plt.xlabel(\"Number of Engines\")\n",
    "plt.ylabel(\"Accident Count\")\n",
    "plt.xticks(rotation=45)\n",
    "plt.show()"
   ]
  },
  {
   "cell_type": "markdown",
   "id": "3d619187-4102-4379-9e81-1cef7c96ca6f",
   "metadata": {
    "jp-MarkdownHeadingCollapsed": true
   },
   "source": [
    "#### Accidents by Aircraft Damage"
   ]
  },
  {
   "cell_type": "code",
   "execution_count": 50,
   "id": "f9558f79-8187-4bf3-89ab-c5f53051453b",
   "metadata": {},
   "outputs": [
    {
     "data": {
      "image/png": "[encoded data removed]",
      "text/plain": [
       "<Figure size 720x360 with 1 Axes>"
      ]
     },
     "metadata": {},
     "output_type": "display_data"
    }
   ],
   "source": [
    "plt.figure(figsize=(10, 5))\n",
    "\n",
    "sns.countplot(data=df1_copy, x=\"Aircraft.damage\")\n",
    "plt.title(\"Accidents by Aircraft Damage\")\n",
    "plt.xticks(rotation=45)  \n",
    "plt.show()"
   ]
  },
  {
   "cell_type": "markdown",
   "id": "7901030e-a8d8-4059-a00d-35240fa53b76",
   "metadata": {},
   "source": [
    "The bar chart shows the distribution of aviation accidents based on the extent of aircraft damage.\n",
    "- \"Substantial\" damage is the most common category, with the highest number of incidents.\n",
    "- \"Destroyed\" aircraft comes second but with significantly fewer occurrences.\n",
    "- \"Minor\" and \"Unknown\" damage categories have the least incidents.\n",
    "  \n",
    "This suggests that while many accidents result in severe damage, total destruction is relatively rare."
   ]
  },
  {
   "cell_type": "markdown",
   "id": "0c66b0fa-dac6-499a-ba5e-60d04a08b065",
   "metadata": {
    "jp-MarkdownHeadingCollapsed": true
   },
   "source": [
    "#### Accidents by Purpose of Flight"
   ]
  },
  {
   "cell_type": "code",
   "execution_count": 53,
   "id": "f38caa9e-5211-4e32-89cb-278b893d698a",
   "metadata": {},
   "outputs": [
    {
     "data": {
      "image/png": "[encoded data removed]",
      "text/plain": [
       "<Figure size 1152x576 with 1 Axes>"
      ]
     },
     "metadata": {},
     "output_type": "display_data"
    }
   ],
   "source": [
    "plt.figure(figsize=(16, 8))\n",
    "\n",
    "# Sorting by count\n",
    "sorted_purpose = df1_copy[\"Purpose.of.flight\"].value_counts().index\n",
    "\n",
    "sns.countplot(data=df1_copy, x=\"Purpose.of.flight\", palette=\"coolwarm\", order=sorted_purpose)\n",
    "plt.title(\"Accidents by Purpose of Flight\")\n",
    "plt.xticks(rotation=45)\n",
    "plt.show()"
   ]
  },
  {
   "cell_type": "markdown",
   "id": "13c35889-a77a-48c6-8010-8c87295274f2",
   "metadata": {},
   "source": [
    "The Personal category has the highest number of accidents by a significant margin, followed by Instructional and Aerial Application flights. Business, Unknown, and Positioning flights also show notable accident counts, while other flight purposes, such as Air Race Show, Firefighting, and Public Aircraft operations, have minimal occurrences. This suggests that personal flights are the most prone to accidents, likely due to factors such as pilot experience, aircraft maintenance, or operational conditions."
   ]
  },
  {
   "cell_type": "markdown",
   "id": "cf6ec89c-3e95-4935-a417-e884a8ec1efc",
   "metadata": {
    "jp-MarkdownHeadingCollapsed": true
   },
   "source": [
    "#### Accidents by Weather Condition"
   ]
  },
  {
   "cell_type": "code",
   "execution_count": 120,
   "id": "f23d6a14-7c63-4673-953d-fd1dca2d053f",
   "metadata": {},
   "outputs": [
    {
     "data": {
      "image/png": "[encoded data removed]",
      "text/plain": [
       "<Figure size 720x360 with 1 Axes>"
      ]
     },
     "metadata": {},
     "output_type": "display_data"
    }
   ],
   "source": [
    "plt.figure(figsize=(10, 5))\n",
    "sns.countplot(data=df1_copy, x=\"Weather.Condition\", palette=\"dark\")\n",
    "plt.title(\"Accident Distribution by Weather Condition\")\n",
    "plt.xticks(rotation=45)\n",
    "plt.show()"
   ]
  },
  {
   "cell_type": "markdown",
   "id": "2b309459-cb0d-4b48-b008-24f310275440",
   "metadata": {},
   "source": [
    "The bar chart visualizes the distribution of aviation accidents based on weather conditions. The key observations include:\n",
    "\n",
    "- IMC (Instrument Meteorological Conditions) has the highest number of accidents, significantly dominating the dataset.\n",
    "- VMC (Visual Meteorological Conditions) shows a much smaller number of accidents compared to IMC.\n",
    "- UNK (Unknown) and LNK (Likely Unknown) have very few recorded accidents, indicating incomplete or unclear data.\n",
    "\n",
    "This suggests that most accidents occur under Instrument Meteorological Conditions, likely due to poor visibility and reliance on instruments rather than visual cues."
   ]
  },
  {
   "cell_type": "markdown",
   "id": "b1cadbc9-9418-4e36-9ce5-8e2a66bba5a6",
   "metadata": {
    "jp-MarkdownHeadingCollapsed": true
   },
   "source": [
    "#### Accidents by Amateur Built Status"
   ]
  },
  {
   "cell_type": "code",
   "execution_count": 59,
   "id": "d0687d63-5967-455a-a841-5932710acae8",
   "metadata": {},
   "outputs": [
    {
     "data": {
      "image/png": "[encoded data removed]",
      "text/plain": [
       "<Figure size 720x360 with 1 Axes>"
      ]
     },
     "metadata": {},
     "output_type": "display_data"
    }
   ],
   "source": [
    "plt.figure(figsize=(10, 5))\n",
    "sns.countplot(data=df1_copy, x=\"Amateur.Built\")\n",
    "plt.title(\"Accidents by Amateur Built Status\")\n",
    "plt.xticks(rotation=45)\n",
    "plt.show()"
   ]
  },
  {
   "cell_type": "markdown",
   "id": "83e2fa74-0ec0-47cd-bf28-61950220b847",
   "metadata": {},
   "source": [
    "This bar chart displays the distribution of aviation accidents based on whether the aircraft was amateur-built or not.\n",
    "\n",
    "- \"False\" (Not Amateur-Built) has the highest number of accidents, significantly outweighing the \"True\" category.\n",
    "- \"True\" (Amateur-Built) has a noticeably lower count of accidents, but they still occur.\n",
    "\n",
    "This suggests that most aviation accidents involve factory-built aircraft rather than amateur-built ones. However, the number of accidents in the amateur-built category is still significant, indicating that these aircraft may have unique risk factors."
   ]
  },
  {
   "cell_type": "markdown",
   "id": "7b93579a-052e-4766-8382-c6819d11f5e2",
   "metadata": {},
   "source": [
    "### iii. Accident distribution by aircraft make and model."
   ]
  },
  {
   "cell_type": "markdown",
   "id": "ee73ec88-3523-4dca-a2d8-0cf57249be6e",
   "metadata": {},
   "source": [
    "To examine this we will group the data by aircraft make and model, counting the number of accidents, sort the results to highlight the most least accident-prone aircraft and visualize our findings."
   ]
  },
  {
   "cell_type": "code",
   "execution_count": 63,
   "id": "9edcbc22-7d81-4dc4-901d-824d95b0df17",
   "metadata": {},
   "outputs": [
    {
     "data": {
      "text/html": [
       "<div>\n",
       "<style scoped>\n",
       "    .dataframe tbody tr th:only-of-type {\n",
       "        vertical-align: middle;\n",
       "    }\n",
       "\n",
       "    .dataframe tbody tr th {\n",
       "        vertical-align: top;\n",
       "    }\n",
       "\n",
       "    .dataframe thead th {\n",
       "        text-align: right;\n",
       "    }\n",
       "</style>\n",
       "<table border=\"1\" class=\"dataframe\">\n",
       "  <thead>\n",
       "    <tr style=\"text-align: right;\">\n",
       "      <th></th>\n",
       "      <th>Make</th>\n",
       "      <th>Model</th>\n",
       "      <th>Accident Count</th>\n",
       "    </tr>\n",
       "  </thead>\n",
       "  <tbody>\n",
       "    <tr>\n",
       "      <th>0</th>\n",
       "      <td>177MF LLC</td>\n",
       "      <td>PITTS MODEL 12</td>\n",
       "      <td>1</td>\n",
       "    </tr>\n",
       "    <tr>\n",
       "      <th>1</th>\n",
       "      <td>2007 Savage Air LLC</td>\n",
       "      <td>EPIC LT</td>\n",
       "      <td>1</td>\n",
       "    </tr>\n",
       "    <tr>\n",
       "      <th>2</th>\n",
       "      <td>2021FX3 LLC</td>\n",
       "      <td>CCX-2000</td>\n",
       "      <td>1</td>\n",
       "    </tr>\n",
       "    <tr>\n",
       "      <th>3</th>\n",
       "      <td>781569 INC</td>\n",
       "      <td>FX 210</td>\n",
       "      <td>1</td>\n",
       "    </tr>\n",
       "    <tr>\n",
       "      <th>4</th>\n",
       "      <td>AARDEMA ROBERT JOHN</td>\n",
       "      <td>1 AARDEMA RAG WNG SP</td>\n",
       "      <td>1</td>\n",
       "    </tr>\n",
       "  </tbody>\n",
       "</table>\n",
       "</div>"
      ],
      "text/plain": [
       "                  Make                 Model  Accident Count\n",
       "0            177MF LLC        PITTS MODEL 12               1\n",
       "1  2007 Savage Air LLC               EPIC LT               1\n",
       "2          2021FX3 LLC              CCX-2000               1\n",
       "3           781569 INC                FX 210               1\n",
       "4  AARDEMA ROBERT JOHN  1 AARDEMA RAG WNG SP               1"
      ]
     },
     "execution_count": 63,
     "metadata": {},
     "output_type": "execute_result"
    }
   ],
   "source": [
    "# Grouping by Make and Model to count accidents\n",
    "accident_distribution = df1_copy.groupby([\"Make\", \"Model\"]).size().reset_index(name=\"Accident Count\")\n",
    "accident_distribution.head()"
   ]
  },
  {
   "cell_type": "code",
   "execution_count": 64,
   "id": "645c7784-72df-4da8-bcd0-4e7a0a139cbb",
   "metadata": {},
   "outputs": [
    {
     "data": {
      "text/html": [
       "<div>\n",
       "<style scoped>\n",
       "    .dataframe tbody tr th:only-of-type {\n",
       "        vertical-align: middle;\n",
       "    }\n",
       "\n",
       "    .dataframe tbody tr th {\n",
       "        vertical-align: top;\n",
       "    }\n",
       "\n",
       "    .dataframe thead th {\n",
       "        text-align: right;\n",
       "    }\n",
       "</style>\n",
       "<table border=\"1\" class=\"dataframe\">\n",
       "  <thead>\n",
       "    <tr style=\"text-align: right;\">\n",
       "      <th></th>\n",
       "      <th>Make</th>\n",
       "      <th>Model</th>\n",
       "      <th>Accident Count</th>\n",
       "    </tr>\n",
       "  </thead>\n",
       "  <tbody>\n",
       "    <tr>\n",
       "      <th>1494</th>\n",
       "      <td>CESSNA</td>\n",
       "      <td>172</td>\n",
       "      <td>348</td>\n",
       "    </tr>\n",
       "    <tr>\n",
       "      <th>2005</th>\n",
       "      <td>Cessna</td>\n",
       "      <td>172</td>\n",
       "      <td>279</td>\n",
       "    </tr>\n",
       "    <tr>\n",
       "      <th>1995</th>\n",
       "      <td>Cessna</td>\n",
       "      <td>152</td>\n",
       "      <td>174</td>\n",
       "    </tr>\n",
       "    <tr>\n",
       "      <th>1517</th>\n",
       "      <td>CESSNA</td>\n",
       "      <td>172S</td>\n",
       "      <td>158</td>\n",
       "    </tr>\n",
       "    <tr>\n",
       "      <th>1486</th>\n",
       "      <td>CESSNA</td>\n",
       "      <td>152</td>\n",
       "      <td>157</td>\n",
       "    </tr>\n",
       "    <tr>\n",
       "      <th>1513</th>\n",
       "      <td>CESSNA</td>\n",
       "      <td>172N</td>\n",
       "      <td>138</td>\n",
       "    </tr>\n",
       "    <tr>\n",
       "      <th>1540</th>\n",
       "      <td>CESSNA</td>\n",
       "      <td>182</td>\n",
       "      <td>130</td>\n",
       "    </tr>\n",
       "    <tr>\n",
       "      <th>4807</th>\n",
       "      <td>PIPER</td>\n",
       "      <td>PA-18-150</td>\n",
       "      <td>124</td>\n",
       "    </tr>\n",
       "    <tr>\n",
       "      <th>4921</th>\n",
       "      <td>PIPER</td>\n",
       "      <td>PA28</td>\n",
       "      <td>117</td>\n",
       "    </tr>\n",
       "    <tr>\n",
       "      <th>1529</th>\n",
       "      <td>CESSNA</td>\n",
       "      <td>180</td>\n",
       "      <td>116</td>\n",
       "    </tr>\n",
       "  </tbody>\n",
       "</table>\n",
       "</div>"
      ],
      "text/plain": [
       "        Make      Model  Accident Count\n",
       "1494  CESSNA        172             348\n",
       "2005  Cessna        172             279\n",
       "1995  Cessna        152             174\n",
       "1517  CESSNA       172S             158\n",
       "1486  CESSNA        152             157\n",
       "1513  CESSNA       172N             138\n",
       "1540  CESSNA        182             130\n",
       "4807   PIPER  PA-18-150             124\n",
       "4921   PIPER       PA28             117\n",
       "1529  CESSNA        180             116"
      ]
     },
     "execution_count": 64,
     "metadata": {},
     "output_type": "execute_result"
    }
   ],
   "source": [
    "# Sorting by highest number of accidents\n",
    "accident_distribution = accident_distribution.sort_values(by=\"Accident Count\", ascending=False).head(20)\n",
    "accident_distribution.head(10)"
   ]
  },
  {
   "cell_type": "code",
   "execution_count": 65,
   "id": "1996f468-ba8b-4426-b29a-ca280f461034",
   "metadata": {},
   "outputs": [
    {
     "data": {
      "image/png": "[encoded data removed]",
      "text/plain": [
       "<Figure size 1008x576 with 1 Axes>"
      ]
     },
     "metadata": {},
     "output_type": "display_data"
    }
   ],
   "source": [
    "# Plotting the distribution\n",
    "plt.figure(figsize=(14, 8))\n",
    "sns.barplot(data=accident_distribution, y=\"Make\", x=\"Accident Count\", hue=\"Model\", dodge=False, palette=\"viridis\")\n",
    "plt.title(\"Top 20 Aircraft Makes & Models with the Most Accidents\", fontsize=14)\n",
    "plt.xlabel(\"Number of Accidents\")\n",
    "plt.ylabel(\"Aircraft Make\")\n",
    "plt.legend(title=\"Aircraft Model\", bbox_to_anchor=(1.05, 1), loc=\"upper left\")\n",
    "plt.grid(axis=\"x\", linestyle=\"--\", alpha=0.7)\n",
    "plt.show()"
   ]
  },
  {
   "cell_type": "markdown",
   "id": "15023fad-5af5-46b3-91bc-8acbbf645c64",
   "metadata": {},
   "source": [
    "#### Insights:\n",
    "- Cessna dominates accident counts, indicating that it is either the most commonly used aircraft and has higher accident rates.\n",
    "- Robinson Helicopters (R22 & R44 models) also appear frequently, suggesting potential safety concerns or high usage.\n",
    "- The distribution suggests that certain models within a brand (e.g., Cessna 172, Piper PA-28) significantly contribute to accident numbers.\n",
    "\n",
    "#### Business Recommendations:\n",
    "- Avoid using high-accident aircraft models like the Cessna 172 and Piper PA-28 for business expansion.\n",
    "- Investigate why Cessna has so many accidents (e.g., pilot error, aircraft age, mechanical failure).\n",
    "- Consider alternative aircraft with fewer recorded accidents for lower-risk operations."
   ]
  },
  {
   "cell_type": "markdown",
   "id": "0772efaf-0985-4419-bff0-67cf00aeaeee",
   "metadata": {},
   "source": [
    "#### Aircraft makes & models with the least accidents"
   ]
  },
  {
   "cell_type": "code",
   "execution_count": 68,
   "id": "d31b1b6b-6de5-4982-b222-8e8ef8ad7df1",
   "metadata": {},
   "outputs": [
    {
     "data": {
      "image/png": "[encoded data removed]",
      "text/plain": [
       "<Figure size 1008x576 with 1 Axes>"
      ]
     },
     "metadata": {},
     "output_type": "display_data"
    }
   ],
   "source": [
    "# Get aircraft makes & models with the least accidents\n",
    "safest_aircraft = df1_copy.groupby([\"Make\", \"Model\"]).size().reset_index(name=\"Accident Count\")\n",
    "\n",
    "# Filter to the lowest accident counts\n",
    "safest_aircraft = safest_aircraft.sort_values(by=\"Accident Count\", ascending=True).head(20)\n",
    "\n",
    "# Plot\n",
    "plt.figure(figsize=(14, 8))\n",
    "sns.barplot(data=safest_aircraft, y=\"Make\", x=\"Accident Count\", hue=\"Model\", dodge=False, palette=\"Blues_r\")\n",
    "plt.title(\"Top 20 Aircraft Makes & Models with the Fewest Reported Accidents\", fontsize=14)\n",
    "plt.xlabel(\"Number of Reported Accidents\")\n",
    "plt.ylabel(\"Aircraft Make\")\n",
    "plt.legend(title=\"Aircraft Model\", bbox_to_anchor=(1.05, 1), loc=\"upper left\")\n",
    "plt.grid(axis=\"x\", linestyle=\"--\", alpha=0.7)\n",
    "plt.show()"
   ]
  },
  {
   "cell_type": "markdown",
   "id": "f94384e5-64a0-44da-8533-60d404d489f2",
   "metadata": {},
   "source": [
    "#### Insights:\n",
    "- These aircraft have the lowest accident reports, making them potentially safer choices. Some models, like Mosquito XE and MIG aircraft, have military or specialized uses, possibly leading to fewer civilian accident reports. Some aircraft manufacturers listed might be smaller brands with fewer total flights, contributing to fewer recorded incidents.\n",
    "\n",
    "#### Business Recommendations:\n",
    "- Consider these aircraft models for lower-risk operations, as they have fewer reported accidents also investigate operational costs and availability, as some may be rare or not suited for business expansion.\n",
    "- Cross-check safety records with usage statistics, ensuring the low accident count is due to safety and not underreporting."
   ]
  },
  {
   "cell_type": "code",
   "execution_count": 70,
   "id": "c31b015d-39e0-4110-96c5-d73d47db1fe6",
   "metadata": {},
   "outputs": [
    {
     "data": {
      "text/html": [
       "<div>\n",
       "<style scoped>\n",
       "    .dataframe tbody tr th:only-of-type {\n",
       "        vertical-align: middle;\n",
       "    }\n",
       "\n",
       "    .dataframe tbody tr th {\n",
       "        vertical-align: top;\n",
       "    }\n",
       "\n",
       "    .dataframe thead th {\n",
       "        text-align: right;\n",
       "    }\n",
       "</style>\n",
       "<table border=\"1\" class=\"dataframe\">\n",
       "  <thead>\n",
       "    <tr style=\"text-align: right;\">\n",
       "      <th></th>\n",
       "      <th>Make</th>\n",
       "      <th>Model</th>\n",
       "      <th>Accident Count</th>\n",
       "    </tr>\n",
       "  </thead>\n",
       "  <tbody>\n",
       "    <tr>\n",
       "      <th>1514</th>\n",
       "      <td>CESSNA</td>\n",
       "      <td>172P</td>\n",
       "      <td>76</td>\n",
       "    </tr>\n",
       "    <tr>\n",
       "      <th>2022</th>\n",
       "      <td>Cessna</td>\n",
       "      <td>172N</td>\n",
       "      <td>77</td>\n",
       "    </tr>\n",
       "    <tr>\n",
       "      <th>4839</th>\n",
       "      <td>PIPER</td>\n",
       "      <td>PA-28-140</td>\n",
       "      <td>88</td>\n",
       "    </tr>\n",
       "    <tr>\n",
       "      <th>725</th>\n",
       "      <td>BEECH</td>\n",
       "      <td>A36</td>\n",
       "      <td>89</td>\n",
       "    </tr>\n",
       "    <tr>\n",
       "      <th>5505</th>\n",
       "      <td>ROBINSON HELICOPTER</td>\n",
       "      <td>R22 BETA</td>\n",
       "      <td>102</td>\n",
       "    </tr>\n",
       "  </tbody>\n",
       "</table>\n",
       "</div>"
      ],
      "text/plain": [
       "                     Make      Model  Accident Count\n",
       "1514               CESSNA       172P              76\n",
       "2022               Cessna       172N              77\n",
       "4839                PIPER  PA-28-140              88\n",
       "725                 BEECH        A36              89\n",
       "5505  ROBINSON HELICOPTER   R22 BETA             102"
      ]
     },
     "execution_count": 70,
     "metadata": {},
     "output_type": "execute_result"
    }
   ],
   "source": [
    "# Sort by least accidents\n",
    "safest_aircraft = accident_distribution.sort_values(by=\"Accident Count\", ascending=True).head(20)\n",
    "safest_aircraft.head()"
   ]
  },
  {
   "cell_type": "code",
   "execution_count": 71,
   "id": "f67aed8c-f208-44b2-9582-f298677ce899",
   "metadata": {},
   "outputs": [
    {
     "data": {
      "text/html": [
       "<div>\n",
       "<style scoped>\n",
       "    .dataframe tbody tr th:only-of-type {\n",
       "        vertical-align: middle;\n",
       "    }\n",
       "\n",
       "    .dataframe tbody tr th {\n",
       "        vertical-align: top;\n",
       "    }\n",
       "\n",
       "    .dataframe thead th {\n",
       "        text-align: right;\n",
       "    }\n",
       "</style>\n",
       "<table border=\"1\" class=\"dataframe\">\n",
       "  <thead>\n",
       "    <tr style=\"text-align: right;\">\n",
       "      <th></th>\n",
       "      <th>Model</th>\n",
       "      <th>Accident Count</th>\n",
       "    </tr>\n",
       "  </thead>\n",
       "  <tbody>\n",
       "    <tr>\n",
       "      <th>115</th>\n",
       "      <td>172</td>\n",
       "      <td>628</td>\n",
       "    </tr>\n",
       "    <tr>\n",
       "      <th>82</th>\n",
       "      <td>152</td>\n",
       "      <td>331</td>\n",
       "    </tr>\n",
       "    <tr>\n",
       "      <th>175</th>\n",
       "      <td>182</td>\n",
       "      <td>233</td>\n",
       "    </tr>\n",
       "    <tr>\n",
       "      <th>138</th>\n",
       "      <td>172N</td>\n",
       "      <td>215</td>\n",
       "    </tr>\n",
       "    <tr>\n",
       "      <th>2976</th>\n",
       "      <td>PA28</td>\n",
       "      <td>186</td>\n",
       "    </tr>\n",
       "    <tr>\n",
       "      <th>160</th>\n",
       "      <td>180</td>\n",
       "      <td>185</td>\n",
       "    </tr>\n",
       "    <tr>\n",
       "      <th>65</th>\n",
       "      <td>150</td>\n",
       "      <td>174</td>\n",
       "    </tr>\n",
       "    <tr>\n",
       "      <th>144</th>\n",
       "      <td>172S</td>\n",
       "      <td>172</td>\n",
       "    </tr>\n",
       "    <tr>\n",
       "      <th>137</th>\n",
       "      <td>172M</td>\n",
       "      <td>162</td>\n",
       "    </tr>\n",
       "    <tr>\n",
       "      <th>2860</th>\n",
       "      <td>PA-28-140</td>\n",
       "      <td>160</td>\n",
       "    </tr>\n",
       "  </tbody>\n",
       "</table>\n",
       "</div>"
      ],
      "text/plain": [
       "          Model  Accident Count\n",
       "115         172             628\n",
       "82          152             331\n",
       "175         182             233\n",
       "138        172N             215\n",
       "2976       PA28             186\n",
       "160         180             185\n",
       "65          150             174\n",
       "144        172S             172\n",
       "137        172M             162\n",
       "2860  PA-28-140             160"
      ]
     },
     "execution_count": 71,
     "metadata": {},
     "output_type": "execute_result"
    }
   ],
   "source": [
    "# Pivot table summarizing accidents by aircraft model\n",
    "model_pivot = df1_copy.groupby(\"Model\")[\"Event.Id\"].count().reset_index()\n",
    "model_pivot.rename(columns={\"Event.Id\": \"Accident Count\"}, inplace=True)\n",
    "\n",
    "# Sorting in descending order\n",
    "model_pivot = model_pivot.sort_values(by=\"Accident Count\", ascending=False)\n",
    "\n",
    "# Display the top models with the most accidents\n",
    "model_pivot.head(10)\n"
   ]
  },
  {
   "cell_type": "markdown",
   "id": "70fc799b-5155-4ce3-8c72-18166ace4b28",
   "metadata": {},
   "source": [
    "#### visualization of the top 10 aircraft models with the most accidents:"
   ]
  },
  {
   "cell_type": "code",
   "execution_count": 73,
   "id": "51e764e2-d511-4c4c-8c02-b9c243a3a86b",
   "metadata": {},
   "outputs": [
    {
     "data": {
      "image/png": "[encoded data removed]",
      "text/plain": [
       "<Figure size 864x432 with 1 Axes>"
      ]
     },
     "metadata": {},
     "output_type": "display_data"
    }
   ],
   "source": [
    "plt.figure(figsize=(12, 6))\n",
    "sns.barplot(data=model_pivot.head(10), x=\"Accident Count\", y=\"Model\", palette=\"viridis\")\n",
    "plt.title(\"Top 10 Aircraft Models with Most Accidents\")\n",
    "plt.xlabel(\"Accident Count\")\n",
    "plt.ylabel(\"Aircraft Model\")\n",
    "plt.show()"
   ]
  },
  {
   "cell_type": "markdown",
   "id": "6f76d78c-ba87-4c35-b257-110371b5f8cf",
   "metadata": {},
   "source": [
    "#### Analyzing Accident Distribution by Aircraft Manufacturer (Make)\n",
    "We can analyze the accident distribution by aircraft manufacturers to see which brands have the highest number of accidents.\n",
    "\n"
   ]
  },
  {
   "cell_type": "code",
   "execution_count": 75,
   "id": "67358c02-6d8e-47d8-80a0-cfe254e8a3d0",
   "metadata": {},
   "outputs": [
    {
     "data": {
      "text/html": [
       "<div>\n",
       "<style scoped>\n",
       "    .dataframe tbody tr th:only-of-type {\n",
       "        vertical-align: middle;\n",
       "    }\n",
       "\n",
       "    .dataframe tbody tr th {\n",
       "        vertical-align: top;\n",
       "    }\n",
       "\n",
       "    .dataframe thead th {\n",
       "        text-align: right;\n",
       "    }\n",
       "</style>\n",
       "<table border=\"1\" class=\"dataframe\">\n",
       "  <thead>\n",
       "    <tr style=\"text-align: right;\">\n",
       "      <th></th>\n",
       "      <th>Make</th>\n",
       "      <th>Accident Count</th>\n",
       "    </tr>\n",
       "  </thead>\n",
       "  <tbody>\n",
       "    <tr>\n",
       "      <th>591</th>\n",
       "      <td>CESSNA</td>\n",
       "      <td>3578</td>\n",
       "    </tr>\n",
       "    <tr>\n",
       "      <th>2357</th>\n",
       "      <td>PIPER</td>\n",
       "      <td>2137</td>\n",
       "    </tr>\n",
       "    <tr>\n",
       "      <th>742</th>\n",
       "      <td>Cessna</td>\n",
       "      <td>2071</td>\n",
       "    </tr>\n",
       "    <tr>\n",
       "      <th>2422</th>\n",
       "      <td>Piper</td>\n",
       "      <td>1156</td>\n",
       "    </tr>\n",
       "    <tr>\n",
       "      <th>302</th>\n",
       "      <td>BEECH</td>\n",
       "      <td>686</td>\n",
       "    </tr>\n",
       "    <tr>\n",
       "      <th>486</th>\n",
       "      <td>Beech</td>\n",
       "      <td>401</td>\n",
       "    </tr>\n",
       "    <tr>\n",
       "      <th>310</th>\n",
       "      <td>BELL</td>\n",
       "      <td>298</td>\n",
       "    </tr>\n",
       "    <tr>\n",
       "      <th>2565</th>\n",
       "      <td>ROBINSON HELICOPTER</td>\n",
       "      <td>192</td>\n",
       "    </tr>\n",
       "    <tr>\n",
       "      <th>2066</th>\n",
       "      <td>MOONEY</td>\n",
       "      <td>188</td>\n",
       "    </tr>\n",
       "    <tr>\n",
       "      <th>50</th>\n",
       "      <td>AIR TRACTOR INC</td>\n",
       "      <td>172</td>\n",
       "    </tr>\n",
       "  </tbody>\n",
       "</table>\n",
       "</div>"
      ],
      "text/plain": [
       "                     Make  Accident Count\n",
       "591                CESSNA            3578\n",
       "2357                PIPER            2137\n",
       "742                Cessna            2071\n",
       "2422                Piper            1156\n",
       "302                 BEECH             686\n",
       "486                 Beech             401\n",
       "310                  BELL             298\n",
       "2565  ROBINSON HELICOPTER             192\n",
       "2066               MOONEY             188\n",
       "50        AIR TRACTOR INC             172"
      ]
     },
     "execution_count": 75,
     "metadata": {},
     "output_type": "execute_result"
    }
   ],
   "source": [
    "# Pivot table summarizing accidents by aircraft make (manufacturer)\n",
    "make_pivot = df1_copy.groupby(\"Make\")[\"Event.Id\"].count().reset_index()\n",
    "make_pivot.rename(columns={\"Event.Id\": \"Accident Count\"}, inplace=True)\n",
    "\n",
    "# Sorting in descending order\n",
    "make_pivot = make_pivot.sort_values(by=\"Accident Count\", ascending=False)\n",
    "\n",
    "# Display the top manufacturers with the most accidents\n",
    "make_pivot.head(10)\n"
   ]
  },
  {
   "cell_type": "markdown",
   "id": "8962167c-5750-48da-8d96-970819a0f848",
   "metadata": {},
   "source": [
    "#### visualization of top 10 aircraft manufacturers with the most accidents:"
   ]
  },
  {
   "cell_type": "code",
   "execution_count": 77,
   "id": "f40673bd-9cb1-4bbc-aa0c-3937252e9412",
   "metadata": {},
   "outputs": [
    {
     "data": {
      "image/png": "[encoded data removed]",
      "text/plain": [
       "<Figure size 864x432 with 1 Axes>"
      ]
     },
     "metadata": {},
     "output_type": "display_data"
    }
   ],
   "source": [
    "plt.figure(figsize=(12, 6))\n",
    "sns.barplot(data=make_pivot.head(10), x=\"Accident Count\", y=\"Make\", palette=\"magma\")\n",
    "plt.title(\"Top 10 Aircraft Manufacturers with Most Accidents\")\n",
    "plt.xlabel(\"Accident Count\")\n",
    "plt.ylabel(\"Aircraft Manufacturer\")\n",
    "plt.show()"
   ]
  },
  {
   "cell_type": "markdown",
   "id": "ae3b9739-54b9-43e3-9111-942dfe098fb1",
   "metadata": {},
   "source": [
    "### iv. analyzing commercial vs. private aircraft accidents"
   ]
  },
  {
   "cell_type": "markdown",
   "id": "a03c853a-93aa-4c7f-8e21-e0b393e8575d",
   "metadata": {},
   "source": [
    "#### First we will differentiate between Commercial and Private Use. We'll categorize the \"Purpose.of.flight\" into Commercial and Private groups.\n",
    "- Commercial: Includes categories like \"Airline\", \"Cargo\", \"Commuter\", \"Charter\"\n",
    "- Private: Includes \"Personal\", \"Business\", \"Training\", \"Recreational\""
   ]
  },
  {
   "cell_type": "code",
   "execution_count": 141,
   "id": "4120f977-6563-4275-be29-f2cb956f283c",
   "metadata": {},
   "outputs": [
    {
     "data": {
      "text/plain": [
       "Personal                     12872\n",
       "Instructional                 2751\n",
       "Aerial Application            1007\n",
       "Business                       671\n",
       "Unknown                        609\n",
       "Positioning                    361\n",
       "Aerial Observation             216\n",
       "Other Work Use                 208\n",
       "Flight Test                    193\n",
       "Ferry                          151\n",
       "Executive/corporate            120\n",
       "Skydiving                       94\n",
       "External Load                   72\n",
       "Banner Tow                      68\n",
       "Public Aircraft - Federal       63\n",
       "Public Aircraft - Local         54\n",
       "Air Race show                   52\n",
       "Public Aircraft - State         46\n",
       "Public Aircraft                 33\n",
       "Glider Tow                      30\n",
       "Firefighting                    13\n",
       "Air Drop                         6\n",
       "ASHO                             2\n",
       "PUBS                             2\n",
       "PUBL                             1\n",
       "Name: Purpose.of.flight, dtype: int64"
      ]
     },
     "execution_count": 141,
     "metadata": {},
     "output_type": "execute_result"
    }
   ],
   "source": [
    "df1_copy['Purpose.of.flight'].value_counts()"
   ]
  },
  {
   "cell_type": "code",
   "execution_count": 143,
   "id": "c061ac09-6335-4f89-b289-18a4cc87679d",
   "metadata": {},
   "outputs": [
    {
     "name": "stdout",
     "output_type": "stream",
     "text": [
      "Private       14365\n",
      "Commercial     5330\n",
      "Name: Flight_Type, dtype: int64\n"
     ]
    }
   ],
   "source": [
    "# Categorize flights into Commercial vs. Private\n",
    "def categorize_flight(purpose):\n",
    "    commercial_types = [\"Aerial Application\", \"Aerial Observation\", \"Air Drop\", \"Air Race show\", \"Banner Tow\", \n",
    "                        \"Executive/corporate\", \"External Load\", \"Ferry\", \"Flight Test\", \"Firefighting\",\n",
    "                        \"Glider Tow\", \"Instructional\", \"Positioning\", \"Public Aircraft\", \n",
    "                        \"Public Aircraft - Federal\", \"Public Aircraft - Local\", \"Public Aircraft - State\",\"Skydiving\"]\n",
    "    \n",
    "    private_types = [\"Personal\", \"Business\", \"Unknown\", \"Other Work Use\", \"ASHO\", \"PUBS\", \"PUBL\"]\n",
    "    \n",
    "    if purpose in commercial_types:\n",
    "        return \"Commercial\"\n",
    "    elif purpose in private_types:\n",
    "        return \"Private\"\n",
    "    else:\n",
    "        return \"Other\"\n",
    "\n",
    "# Apply categorization\n",
    "df1_copy[\"Flight_Type\"] = df1_copy[\"Purpose.of.flight\"].apply(categorize_flight)\n",
    "\n",
    "# Count accidents per category\n",
    "accident_counts = df1_copy[\"Flight_Type\"].value_counts()\n",
    "print(accident_counts)"
   ]
  },
  {
   "cell_type": "markdown",
   "id": "d06d9e0f-2b8e-4185-be1d-74c23eaca13b",
   "metadata": {},
   "source": [
    "#### Secondly, lets Analyze Accident Rates for Commercial vs. Private Aircraft by comparing accident rates by total number of accidents and injury severity."
   ]
  },
  {
   "cell_type": "code",
   "execution_count": 145,
   "id": "5aa68664-656d-41e2-a57e-39ca42e662fa",
   "metadata": {},
   "outputs": [
    {
     "data": {
      "image/png": "[encoded data removed]",
      "text/plain": [
       "<Figure size 720x360 with 1 Axes>"
      ]
     },
     "metadata": {},
     "output_type": "display_data"
    }
   ],
   "source": [
    "# Count accidents by Flight_Type and Injury Severity\n",
    "plt.figure(figsize=(10, 5))\n",
    "sns.countplot(data=df1_copy, x=\"Flight_Type\", hue=\"Injury.Severity\", order=[\"Commercial\", \"Private\"])\n",
    "plt.title(\"Accident Severity by Flight Type (Commercial vs. Private)\")\n",
    "plt.xlabel(\"Flight Type\")\n",
    "plt.ylabel(\"Number of Accidents\")\n",
    "plt.legend(title=\"Injury Severity\", bbox_to_anchor=(1,1))\n",
    "plt.show()"
   ]
  },
  {
   "cell_type": "markdown",
   "id": "456cf1de-473a-4598-973a-f60abd7be78e",
   "metadata": {},
   "source": [
    "Key Observation:\n",
    "1. Higher Accident Count in Private Flights:\n",
    "- Private flights show significantly more accidents than commercial flights, especially for non-fatal incidents.\n",
    "- This may suggest a higher volume of private flights or a lack of strict safety regulations in private aviation.\n",
    "2. Fatality Distribution:\n",
    "- Fatal accidents are present in both categories, but we need to check if private flights have a higher proportion of fatal accidents compared to their total number of flights.\n",
    "- Private aviation might have a higher fatality rate due to less experienced pilots, fewer safety checks, and maintenance gaps.\n",
    "3. Commercial Accidents:\n",
    "- Even though commercial flights have fewer accidents, the cause of accidents might be more related to mechanical failures, airline operational risks, or bad weather conditions."
   ]
  },
  {
   "cell_type": "markdown",
   "id": "151fceb4-59ee-43bb-9a42-a105f3df307a",
   "metadata": {},
   "source": [
    "#### Thirdly, Lets Identify the Safest Aircraft Models for Each Category\n",
    "We'll filter the dataset by \"Make\" and \"Model\" with low accident counts"
   ]
  },
  {
   "cell_type": "code",
   "execution_count": 168,
   "id": "59638786-2878-490f-90dd-93419a9b5c20",
   "metadata": {},
   "outputs": [
    {
     "name": "stdout",
     "output_type": "stream",
     "text": [
      "Safest Commercial Aircraft Models:\n",
      "208B         10\n",
      "SPORTSTAR    10\n",
      "182P         10\n",
      "PA-31-350    10\n",
      "PA-38        10\n",
      "Name: Model, dtype: int64\n",
      "Safest Private Aircraft Models:\n",
      "100             10\n",
      "RV-9A           10\n",
      "PA-32R-301      10\n",
      "A-1C-200        10\n",
      "SPORTCRUISER    10\n",
      "Name: Model, dtype: int64\n"
     ]
    }
   ],
   "source": [
    "# Set a threshold for minimum accident count\n",
    "min_accidents = 10  \n",
    "\n",
    "# Identify safest commercial aircraft models with at least min_accidents\n",
    "safe_commercial = df1_copy[df1_copy[\"Flight_Type\"] == \"Commercial\"][\"Model\"].value_counts()\n",
    "safe_commercial = safe_commercial[safe_commercial >= min_accidents].nsmallest(5)\n",
    "print(\"Safest Commercial Aircraft Models:\")\n",
    "print(safe_commercial)\n",
    "\n",
    "# Identify safest private aircraft models with at least min_accidents\n",
    "safe_private = df1_copy[df1_copy[\"Flight_Type\"] == \"Private\"][\"Model\"].value_counts()\n",
    "safe_private = safe_private[safe_private >= min_accidents].nsmallest(5)\n",
    "print(\"Safest Private Aircraft Models:\")\n",
    "print(safe_private)"
   ]
  },
  {
   "cell_type": "code",
   "execution_count": 174,
   "id": "d6f88fcf-f9c3-490a-a81a-4f07c6029cf0",
   "metadata": {},
   "outputs": [
    {
     "name": "stdout",
     "output_type": "stream",
     "text": [
      "\n",
      "Accident Severity Analysis by Aircraft Model:\n",
      "Injury.Severity                   Fatal  Fatal(1)  Fatal(12)  Fatal(2)  \\\n",
      "Model                Flight_Type                                         \n",
      "(SOLOY CONVERSION)   Commercial     0.0       0.0        0.0       0.0   \n",
      "0-47B                Private        0.0       0.0        0.0       0.0   \n",
      "0-58A                Private        0.0       0.0        0.0       0.0   \n",
      "0-58B                Private        0.0       0.0        0.0       0.0   \n",
      "0-77                 Private        0.0       0.0        0.0       0.0   \n",
      "1                    Private        0.0       0.0        0.0       0.0   \n",
      "1 AARDEMA RAG WNG SP Private        0.0       0.0        0.0       0.0   \n",
      "1-126E               Private        0.0       0.0        0.0       0.0   \n",
      "1-A                  Private        1.0       0.0        0.0       0.0   \n",
      "10                   Private        0.0       0.0        0.0       0.0   \n",
      "\n",
      "Injury.Severity                   Fatal(27)  Fatal(3)  Fatal(4)  Fatal(5)  \\\n",
      "Model                Flight_Type                                            \n",
      "(SOLOY CONVERSION)   Commercial         0.0       0.0       0.0       0.0   \n",
      "0-47B                Private            0.0       0.0       0.0       0.0   \n",
      "0-58A                Private            0.0       0.0       0.0       0.0   \n",
      "0-58B                Private            0.0       0.0       0.0       0.0   \n",
      "0-77                 Private            0.0       0.0       0.0       0.0   \n",
      "1                    Private            0.0       0.0       0.0       0.0   \n",
      "1 AARDEMA RAG WNG SP Private            0.0       0.0       0.0       0.0   \n",
      "1-126E               Private            0.0       0.0       0.0       0.0   \n",
      "1-A                  Private            0.0       0.0       0.0       0.0   \n",
      "10                   Private            0.0       0.0       0.0       0.0   \n",
      "\n",
      "Injury.Severity                   Fatal(6)  Fatal(7)  Fatal(8)  Incident  \\\n",
      "Model                Flight_Type                                           \n",
      "(SOLOY CONVERSION)   Commercial        0.0       0.0       0.0       0.0   \n",
      "0-47B                Private           0.0       0.0       0.0       0.0   \n",
      "0-58A                Private           0.0       0.0       0.0       0.0   \n",
      "0-58B                Private           0.0       0.0       0.0       0.0   \n",
      "0-77                 Private           0.0       0.0       0.0       0.0   \n",
      "1                    Private           0.0       0.0       0.0       0.0   \n",
      "1 AARDEMA RAG WNG SP Private           0.0       0.0       0.0       0.0   \n",
      "1-126E               Private           0.0       0.0       0.0       0.0   \n",
      "1-A                  Private           0.0       0.0       0.0       0.0   \n",
      "10                   Private           0.0       0.0       0.0       0.0   \n",
      "\n",
      "Injury.Severity                   Minor  Non-Fatal  Serious  \n",
      "Model                Flight_Type                             \n",
      "(SOLOY CONVERSION)   Commercial     0.0        1.0      0.0  \n",
      "0-47B                Private        0.0        1.0      0.0  \n",
      "0-58A                Private        0.0        1.0      0.0  \n",
      "0-58B                Private        0.0        1.0      0.0  \n",
      "0-77                 Private        0.0        1.0      0.0  \n",
      "1                    Private        0.0        3.0      0.0  \n",
      "1 AARDEMA RAG WNG SP Private        0.0        1.0      0.0  \n",
      "1-126E               Private        0.0        1.0      0.0  \n",
      "1-A                  Private        0.0        1.0      0.0  \n",
      "10                   Private        0.0        1.0      0.0  \n"
     ]
    }
   ],
   "source": [
    "# Accident severity breakdown by aircraft model and flight type\n",
    "severity_analysis = df1_copy.groupby([\"Model\", \"Flight_Type\"])['Injury.Severity'].value_counts().unstack().fillna(0)\n",
    "print(\"\\nAccident Severity Analysis by Aircraft Model:\")\n",
    "print(severity_analysis.head(10))  # Display top 10 for readability"
   ]
  },
  {
   "cell_type": "markdown",
   "id": "5dcca2fa-ab65-4740-8a55-da138eef14cf",
   "metadata": {},
   "source": [
    "For business expansion, prioritize commercial aircraft models with zero fatal incidents and high survival rates, avoid high-risk models with multiple fatalities, and further assess private aircraft safety factors like pilot experience and maintenance."
   ]
  },
  {
   "cell_type": "markdown",
   "id": "d5679976-180b-4da3-9c62-cc55bb65eedf",
   "metadata": {},
   "source": [
    "#### Finaly lets compare risk factors by analyzing causes of accidents in each category"
   ]
  },
  {
   "cell_type": "code",
   "execution_count": 160,
   "id": "ed4a4e39-a7ca-48ec-852b-482e7935af4a",
   "metadata": {},
   "outputs": [
    {
     "data": {
      "image/png": "[encoded data removed]",
      "text/plain": [
       "<Figure size 576x360 with 1 Axes>"
      ]
     },
     "metadata": {},
     "output_type": "display_data"
    }
   ],
   "source": [
    "# Compare Weather Conditions Impact\n",
    "plt.figure(figsize=(8,5))\n",
    "sns.countplot(data=df1_copy, x=\"Weather.Condition\", hue=\"Flight_Type\")\n",
    "plt.title(\"Impact of Weather Conditions on Commercial vs. Private Flights\")\n",
    "plt.xlabel(\"Weather Condition\")\n",
    "plt.ylabel(\"Number of Accidents\")\n",
    "plt.legend(title=\"Flight Type\")\n",
    "plt.show()"
   ]
  },
  {
   "cell_type": "markdown",
   "id": "dc75416c-44cf-42e1-a700-f61f7a85ca22",
   "metadata": {},
   "source": [
    "Most accidents occur under VMC (Visual Meteorological Conditions), with private flights experiencing a significantly higher number of accidents than commercial flights. This suggests that factors other than weather—such as maintenance, or operational procedures—play a critical role in private flight safety.\n",
    "\n",
    "For business expansion, prioritize commercial aircraft over private ones due to their lower accident rates under similar weather conditions. Additionally, if private flights are considered, implement stricter safety protocols, including enhanced pilot training and rigorous maintenance checks."
   ]
  },
  {
   "cell_type": "markdown",
   "id": "1ec010a2-c8ba-4ed1-8866-077ea06a3281",
   "metadata": {},
   "source": [
    "## Recommendations:\n",
    "To minimize operational risks and enhance business success in aviation expansion, prioritize commercial aircraft over private ones, as they exhibit lower accident rates under similar conditions. If private flights are considered, enforce stricter safety protocols, including enhanced pilot training, rigorous maintenance checks, and advanced weather monitoring systems. Additionally, invest in aircraft models with historically lower accident rates and operate primarily in favorable weather conditions (VMC) to reduce incident likelihood."
   ]
  },
  {
   "cell_type": "markdown",
   "id": "1dae7fac-e437-45f2-80ec-86b8915e8338",
   "metadata": {},
   "source": [
    "## Conclusion:\n",
    "By leveraging data-driven insights from aviation accident analysis, our business can strategically select safer aircraft models, optimize operational procedures, and mitigate risks associated with adverse weather and human factors. Implementing these recommendations will ensure cost efficiency, regulatory compliance, and long-term sustainability in the aviation sector."
   ]
  }
 ],
 "metadata": {
  "kernelspec": {
   "display_name": "Python [conda env:learn-env]",
   "language": "python",
   "name": "conda-env-learn-env-py"
  },
  "language_info": {
   "codemirror_mode": {
    "name": "ipython",
    "version": 3
   },
   "file_extension": ".py",
   "mimetype": "text/x-python",
   "name": "python",
   "nbconvert_exporter": "python",
   "pygments_lexer": "ipython3",
   "version": "3.8.5"
  }
 },
 "nbformat": 4,
 "nbformat_minor": 5
}
